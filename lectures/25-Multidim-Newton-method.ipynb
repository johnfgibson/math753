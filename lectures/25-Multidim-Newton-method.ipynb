{
 "cells": [
  {
   "cell_type": "markdown",
   "metadata": {},
   "source": [
    "# Multidimensional Newton method\n",
    "\n",
    "A simple implementation of multidimensional Newton's method and an example of its use on a nonlinear function."
   ]
  },
  {
   "cell_type": "code",
   "execution_count": 8,
   "metadata": {
    "collapsed": false
   },
   "outputs": [
    {
     "data": {
      "text/plain": [
       "newtonmethod (generic function with 2 methods)"
      ]
     },
     "execution_count": 8,
     "metadata": {},
     "output_type": "execute_result"
    }
   ],
   "source": [
    "function newtonmethod(f, Df, x₀, maxiters=20)\n",
    "    # solve eqn f(x) = 0 for vector-valued x,f\n",
    "    # Df is function that computes matrix of partial derivatives\n",
    "    # x₀ is initial guess\n",
    "    \n",
    "    x = copy(x₀)\n",
    "    fx = f(x)\n",
    "    tol = 10*eps(float(x[1])) # crude stopping condition\n",
    "    \n",
    "    for n=1:maxiters\n",
    "        @show x, fx         # display current x and f(x)\n",
    "        \n",
    "        if norm(fx) < tol   # exit if fx is small enough\n",
    "            return x\n",
    "        end\n",
    "        \n",
    "        Δx = -Df(x)\\fx      # compute Newton step Δx\n",
    "        \n",
    "        x = x + Δx          # update x using x⁽ⁿ⁺¹⁾ =  x⁽ⁿ⁾ + Δx\n",
    "        fx = f(x)           # recompute f(x) \n",
    "    end\n",
    "    println(\"newtonmethod reached maximum iterations without converging\")\n",
    "    return x\n",
    "end"
   ]
  },
  {
   "cell_type": "markdown",
   "metadata": {},
   "source": [
    "## Example problem\n",
    "\n",
    "We want to find a solution $(x,y)$ to the equations\n",
    "\\begin{align*}\n",
    "y - x^3 &= 0 \\\\\n",
    "x^2 + y^2 &= 1\n",
    "\\end{align*}\n",
    "\n",
    "### Change of variables\n",
    "\n",
    "To use the Newton method we need to write this in the form $f(x) = 0$ for vector $x$, $f$\n",
    "\n",
    "\\begin{align*}\n",
    " f_1(x,y) &= y - x^3 = 0 \\\\\n",
    " f_2(x,y) &= x^2 + y^2 - 1 = 0\n",
    "\\end{align*}\n",
    "\n",
    "So we change from $(x,y)$ notation to $x = (x_1, x_2)$ and $f = (f_1, f_2)$ and define\n",
    "\n",
    "\\begin{align*}\n",
    " f(x) = \\left(\\begin{array}{l}\n",
    "    x_2 - x_1^3 \\\\\n",
    "    x_1^2 + x_2^2 - 1\n",
    "    \\end{array}\\right)\n",
    "\\end{align*}\n",
    "\n",
    "Given this $f(x)$, the original system of equations is now expressed as $f(x) = 0$.\n",
    "\n",
    "### Compute matrix of partial derivatives\n",
    "\n",
    "We need to compute $Df$, the matrix of partial derivatives, as a function of $x$,\n",
    "where $\\left[Df\\right]_{ij} = \\partial f_i / \\partial x_j$. For the given $f$,\n",
    "\n",
    "\\begin{align*}\n",
    " Df(x) = \n",
    "  \\left[\\begin{array}{ll}\n",
    "     \\partial f_1 / \\partial x_1 & \\partial f_1 / \\partial x_2\\\\\n",
    "     \\partial f_2 / \\partial x_1 & \\partial f_2 / \\partial x_2\\\\\n",
    "    \\end{array}\\right]\n",
    "    = \n",
    " \\left[\\begin{array}{cc}\n",
    "    x_2 - 3x_1^2 & 1 \\\\\n",
    "    2x_1 &  2 x_2\n",
    "    \\end{array}\\right]\n",
    "\\end{align*} \n"
   ]
  },
  {
   "cell_type": "markdown",
   "metadata": {},
   "source": [
    "### Encode f(x) and Df(x) as Julia functions"
   ]
  },
  {
   "cell_type": "code",
   "execution_count": 2,
   "metadata": {
    "collapsed": false
   },
   "outputs": [
    {
     "data": {
      "text/plain": [
       "f (generic function with 1 method)"
      ]
     },
     "execution_count": 2,
     "metadata": {},
     "output_type": "execute_result"
    }
   ],
   "source": [
    "f(x) = [x[2] - x[1]^3; \n",
    "        x[1]^2 + x[2]^2 - 1]"
   ]
  },
  {
   "cell_type": "code",
   "execution_count": 3,
   "metadata": {
    "collapsed": false
   },
   "outputs": [
    {
     "data": {
      "text/plain": [
       "Df (generic function with 1 method)"
      ]
     },
     "execution_count": 3,
     "metadata": {},
     "output_type": "execute_result"
    }
   ],
   "source": [
    "Df(x) = [-3*x[1]^2  1 ;\n",
    "         2*x[1] 2*x[2]]"
   ]
  },
  {
   "cell_type": "code",
   "execution_count": 4,
   "metadata": {
    "collapsed": false
   },
   "outputs": [
    {
     "data": {
      "text/plain": [
       "2-element Array{Int64,1}:\n",
       " -5\n",
       " 12"
      ]
     },
     "execution_count": 4,
     "metadata": {},
     "output_type": "execute_result"
    }
   ],
   "source": [
    "# Test f(x) and Df(x) to be sure they work \n",
    "f([2;3])"
   ]
  },
  {
   "cell_type": "code",
   "execution_count": 5,
   "metadata": {
    "collapsed": false
   },
   "outputs": [
    {
     "data": {
      "text/plain": [
       "2×2 Array{Int64,2}:\n",
       " -12  1\n",
       "   4  6"
      ]
     },
     "execution_count": 5,
     "metadata": {},
     "output_type": "execute_result"
    }
   ],
   "source": [
    "# Test f(x) to be sure it works Df([2;3])\n",
    "Df([2;3])"
   ]
  },
  {
   "cell_type": "markdown",
   "metadata": {},
   "source": [
    "### Apply Newton Method to f, Df\n",
    "\n",
    "Use initial guess $x = (3,3)$"
   ]
  },
  {
   "cell_type": "code",
   "execution_count": 6,
   "metadata": {
    "collapsed": false
   },
   "outputs": [
    {
     "name": "stdout",
     "output_type": "stream",
     "text": [
      "(x, fx) = ([3, 3], [-24, 17])\n",
      "(x, fx) = ([2.04167, 1.125], [-7.38549, 4.43403])\n",
      "(x, fx) = ([1.3883, 0.340053], [-2.33575, 1.04302])\n",
      "(x, fx) = ([0.996063, 0.4078], [-0.580436, 0.158442])\n",
      "(x, fx) = ([0.853102, 0.562722], [-0.0581506, 0.0444389])\n",
      "(x, fx) = ([0.826709, 0.563248], [-0.00176436, 0.000696849])\n",
      "(x, fx) = ([0.826032, 0.563624], [-1.13755e-6, 5.99846e-7])\n",
      "(x, fx) = ([0.826031, 0.563624], [-5.59885e-13, 2.52909e-13])\n",
      "(x, fx) = ([0.826031, 0.563624], [-1.11022e-16, 0.0])\n"
     ]
    },
    {
     "data": {
      "text/plain": [
       "2-element Array{Float64,1}:\n",
       " 0.826031\n",
       " 0.563624"
      ]
     },
     "execution_count": 6,
     "metadata": {},
     "output_type": "execute_result"
    }
   ],
   "source": [
    "x = newtonmethod(f, Df, [3; 3])"
   ]
  },
  {
   "cell_type": "markdown",
   "metadata": {},
   "source": [
    "### Great, it looks like it converges. Test $f$ on the returned value of $x$"
   ]
  },
  {
   "cell_type": "code",
   "execution_count": 7,
   "metadata": {
    "collapsed": false
   },
   "outputs": [
    {
     "data": {
      "text/plain": [
       "2-element Array{Float64,1}:\n",
       " -1.11022e-16\n",
       "  0.0        "
      ]
     },
     "execution_count": 7,
     "metadata": {},
     "output_type": "execute_result"
    }
   ],
   "source": [
    "f(x)"
   ]
  },
  {
   "cell_type": "markdown",
   "metadata": {},
   "source": [
    "Indeed, both components of $f(x)$ are nearly zero."
   ]
  },
  {
   "cell_type": "code",
   "execution_count": null,
   "metadata": {
    "collapsed": true
   },
   "outputs": [],
   "source": []
  }
 ],
 "metadata": {
  "kernelspec": {
   "display_name": "Julia 0.6.1",
   "language": "julia",
   "name": "julia-0.6"
  },
  "language_info": {
   "file_extension": ".jl",
   "mimetype": "application/julia",
   "name": "julia",
   "version": "0.6.1"
  }
 },
 "nbformat": 4,
 "nbformat_minor": 2
}

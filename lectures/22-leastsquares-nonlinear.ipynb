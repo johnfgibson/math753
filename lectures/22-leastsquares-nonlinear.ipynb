{
 "cells": [
  {
   "cell_type": "markdown",
   "metadata": {},
   "source": [
    "# Modeling data with least-squares fits\n",
    "\n",
    "### Exponential model\n",
    "\n",
    "**(a)** Fit the world population of passenger automobiles to the model $y = c_1 e^{c_2 (t-t_0)}$ by linearizing and doing a least-squares fit for $c_1, c_2$. The number of cars here is given in millions, e.g. there were 53.1 million cars in 1950.\n",
    "\n",
    "\\begin{array}{c|r}\n",
    "year & cars\\\\\n",
    "\\hline\n",
    "1950 & 53.1 \\\\\n",
    "1960 & 98.3 \\\\\n",
    "1970 & 193.5 \\\\\n",
    "1980 & 320.3 \\\\\n",
    "1990 & 444.9 \\\\\n",
    "2000 & 548.6 \\\\\n",
    "2010 & 723.6 \n",
    "\\end{array}\n"
   ]
  },
  {
   "cell_type": "code",
   "execution_count": 17,
   "metadata": {},
   "outputs": [
    {
     "data": {
      "text/plain": [
       "7-element Array{Int64,1}:\n",
       " 1950\n",
       " 1960\n",
       " 1970\n",
       " 1980\n",
       " 1990\n",
       " 2000\n",
       " 2010"
      ]
     },
     "execution_count": 17,
     "metadata": {},
     "output_type": "execute_result"
    }
   ],
   "source": [
    "tdata = [ 1950, 1960, 1970, 1980, 1990, 2000, 2010]"
   ]
  },
  {
   "cell_type": "code",
   "execution_count": 18,
   "metadata": {},
   "outputs": [
    {
     "data": {
      "text/plain": [
       "7-element Array{Float64,1}:\n",
       "  53.1\n",
       "  98.3\n",
       " 193.5\n",
       " 320.0\n",
       " 444.9\n",
       " 548.6\n",
       " 723.6"
      ]
     },
     "execution_count": 18,
     "metadata": {},
     "output_type": "execute_result"
    }
   ],
   "source": [
    "ydata = [53.1, 98.3, 193.5, 320.0, 444.9, 548.6, 723.6]"
   ]
  },
  {
   "cell_type": "code",
   "execution_count": 12,
   "metadata": {},
   "outputs": [
    {
     "data": {
      "text/plain": [
       "7"
      ]
     },
     "execution_count": 12,
     "metadata": {},
     "output_type": "execute_result"
    }
   ],
   "source": [
    "length(tdata)"
   ]
  },
  {
   "cell_type": "code",
   "execution_count": 19,
   "metadata": {},
   "outputs": [
    {
     "data": {
      "text/plain": [
       "0.043240887870938105"
      ]
     },
     "execution_count": 19,
     "metadata": {},
     "output_type": "execute_result"
    }
   ],
   "source": [
    "A = ones(7,2)\n",
    "A[:,2] = tdata - t₀\n",
    "b = log.(ydata)\n",
    "x = A\\b\n",
    "c1 = exp(x[1])\n",
    "c2 = x[2]"
   ]
  },
  {
   "cell_type": "code",
   "execution_count": 14,
   "metadata": {},
   "outputs": [
    {
     "data": {
      "text/plain": [
       "67.67164564705911"
      ]
     },
     "execution_count": 14,
     "metadata": {},
     "output_type": "execute_result"
    }
   ],
   "source": [
    "c1"
   ]
  },
  {
   "cell_type": "markdown",
   "metadata": {},
   "source": [
    "**(b)** Write a Julia function $f(t) = c_1 e^{c_2 t}$ with the numerical values of $c_1, c_2$ and make a plot with the datapoints as dots and the model as a smooth curve.\n"
   ]
  },
  {
   "cell_type": "code",
   "execution_count": 20,
   "metadata": {},
   "outputs": [
    {
     "data": {
      "text/plain": [
       "f (generic function with 1 method)"
      ]
     },
     "execution_count": 20,
     "metadata": {},
     "output_type": "execute_result"
    }
   ],
   "source": [
    "t₀ = 1950\n",
    "f(t) = c1 * exp.(c2*(t - t₀))"
   ]
  },
  {
   "cell_type": "code",
   "execution_count": 21,
   "metadata": {},
   "outputs": [
    {
     "data": {
      "text/html": [
       "<?xml version=\"1.0\" encoding=\"utf-8\"?>\n",
       "<svg xmlns=\"http://www.w3.org/2000/svg\" xmlns:xlink=\"http://www.w3.org/1999/xlink\" width=\"600\" height=\"400\" viewBox=\"0 0 600 400\">\n",
       "<defs>\n",
       "  <clipPath id=\"clip00\">\n",
       "    <rect x=\"0\" y=\"0\" width=\"600\" height=\"400\"/>\n",
       "  </clipPath>\n",
       "</defs>\n",
       "<polygon clip-path=\"url(#clip0800)\" points=\"\n",
       "0,400 600,400 600,0 0,0 \n",
       "  \" fill=\"#ffffff\" fill-opacity=\"1\"/>\n",
       "<defs>\n",
       "  <clipPath id=\"clip01\">\n",
       "    <rect x=\"120\" y=\"0\" width=\"421\" height=\"400\"/>\n",
       "  </clipPath>\n",
       "</defs>\n",
       "<polygon clip-path=\"url(#clip0800)\" points=\"\n",
       "57.8546,360.065 580.315,360.065 580.315,11.811 57.8546,11.811 \n",
       "  \" fill=\"#ffffff\" fill-opacity=\"1\"/>\n",
       "<defs>\n",
       "  <clipPath id=\"clip02\">\n",
       "    <rect x=\"57\" y=\"11\" width=\"523\" height=\"349\"/>\n",
       "  </clipPath>\n",
       "</defs>\n",
       "<polyline clip-path=\"url(#clip0802)\" style=\"stroke:#000000; stroke-width:0.5; stroke-opacity:0.1; fill:none\" points=\"\n",
       "  130.628,354.842 130.628,17.0348 \n",
       "  \"/>\n",
       "<polyline clip-path=\"url(#clip0802)\" style=\"stroke:#000000; stroke-width:0.5; stroke-opacity:0.1; fill:none\" points=\"\n",
       "  246.601,354.842 246.601,17.0348 \n",
       "  \"/>\n",
       "<polyline clip-path=\"url(#clip0802)\" style=\"stroke:#000000; stroke-width:0.5; stroke-opacity:0.1; fill:none\" points=\"\n",
       "  362.575,354.842 362.575,17.0348 \n",
       "  \"/>\n",
       "<polyline clip-path=\"url(#clip0802)\" style=\"stroke:#000000; stroke-width:0.5; stroke-opacity:0.1; fill:none\" points=\"\n",
       "  478.548,354.842 478.548,17.0348 \n",
       "  \"/>\n",
       "<polyline clip-path=\"url(#clip0802)\" style=\"stroke:#000000; stroke-width:0.5; stroke-opacity:0.1; fill:none\" points=\"\n",
       "  65.6915,358.75 572.478,358.75 \n",
       "  \"/>\n",
       "<polyline clip-path=\"url(#clip0802)\" style=\"stroke:#000000; stroke-width:0.5; stroke-opacity:0.1; fill:none\" points=\"\n",
       "  65.6915,283.827 572.478,283.827 \n",
       "  \"/>\n",
       "<polyline clip-path=\"url(#clip0802)\" style=\"stroke:#000000; stroke-width:0.5; stroke-opacity:0.1; fill:none\" points=\"\n",
       "  65.6915,208.903 572.478,208.903 \n",
       "  \"/>\n",
       "<polyline clip-path=\"url(#clip0802)\" style=\"stroke:#000000; stroke-width:0.5; stroke-opacity:0.1; fill:none\" points=\"\n",
       "  65.6915,133.98 572.478,133.98 \n",
       "  \"/>\n",
       "<polyline clip-path=\"url(#clip0802)\" style=\"stroke:#000000; stroke-width:0.5; stroke-opacity:0.1; fill:none\" points=\"\n",
       "  65.6915,59.057 572.478,59.057 \n",
       "  \"/>\n",
       "<polyline clip-path=\"url(#clip0800)\" style=\"stroke:#000000; stroke-width:1; stroke-opacity:1; fill:none\" points=\"\n",
       "  57.8546,360.065 580.315,360.065 \n",
       "  \"/>\n",
       "<polyline clip-path=\"url(#clip0800)\" style=\"stroke:#000000; stroke-width:1; stroke-opacity:1; fill:none\" points=\"\n",
       "  57.8546,360.065 57.8546,11.811 \n",
       "  \"/>\n",
       "<polyline clip-path=\"url(#clip0800)\" style=\"stroke:#000000; stroke-width:1; stroke-opacity:1; fill:none\" points=\"\n",
       "  130.628,360.065 130.628,354.842 \n",
       "  \"/>\n",
       "<polyline clip-path=\"url(#clip0800)\" style=\"stroke:#000000; stroke-width:1; stroke-opacity:1; fill:none\" points=\"\n",
       "  246.601,360.065 246.601,354.842 \n",
       "  \"/>\n",
       "<polyline clip-path=\"url(#clip0800)\" style=\"stroke:#000000; stroke-width:1; stroke-opacity:1; fill:none\" points=\"\n",
       "  362.575,360.065 362.575,354.842 \n",
       "  \"/>\n",
       "<polyline clip-path=\"url(#clip0800)\" style=\"stroke:#000000; stroke-width:1; stroke-opacity:1; fill:none\" points=\"\n",
       "  478.548,360.065 478.548,354.842 \n",
       "  \"/>\n",
       "<polyline clip-path=\"url(#clip0800)\" style=\"stroke:#000000; stroke-width:1; stroke-opacity:1; fill:none\" points=\"\n",
       "  57.8546,358.75 65.6915,358.75 \n",
       "  \"/>\n",
       "<polyline clip-path=\"url(#clip0800)\" style=\"stroke:#000000; stroke-width:1; stroke-opacity:1; fill:none\" points=\"\n",
       "  57.8546,283.827 65.6915,283.827 \n",
       "  \"/>\n",
       "<polyline clip-path=\"url(#clip0800)\" style=\"stroke:#000000; stroke-width:1; stroke-opacity:1; fill:none\" points=\"\n",
       "  57.8546,208.903 65.6915,208.903 \n",
       "  \"/>\n",
       "<polyline clip-path=\"url(#clip0800)\" style=\"stroke:#000000; stroke-width:1; stroke-opacity:1; fill:none\" points=\"\n",
       "  57.8546,133.98 65.6915,133.98 \n",
       "  \"/>\n",
       "<polyline clip-path=\"url(#clip0800)\" style=\"stroke:#000000; stroke-width:1; stroke-opacity:1; fill:none\" points=\"\n",
       "  57.8546,59.057 65.6915,59.057 \n",
       "  \"/>\n",
       "<g clip-path=\"url(#clip0800)\">\n",
       "<text style=\"fill:#000000; fill-opacity:1; font-family:Arial,Helvetica Neue,Helvetica,sans-serif; font-size:12; text-anchor:middle;\" transform=\"rotate(0, 130.628, 373.865)\" x=\"130.628\" y=\"373.865\">1940</text>\n",
       "</g>\n",
       "<g clip-path=\"url(#clip0800)\">\n",
       "<text style=\"fill:#000000; fill-opacity:1; font-family:Arial,Helvetica Neue,Helvetica,sans-serif; font-size:12; text-anchor:middle;\" transform=\"rotate(0, 246.601, 373.865)\" x=\"246.601\" y=\"373.865\">1960</text>\n",
       "</g>\n",
       "<g clip-path=\"url(#clip0800)\">\n",
       "<text style=\"fill:#000000; fill-opacity:1; font-family:Arial,Helvetica Neue,Helvetica,sans-serif; font-size:12; text-anchor:middle;\" transform=\"rotate(0, 362.575, 373.865)\" x=\"362.575\" y=\"373.865\">1980</text>\n",
       "</g>\n",
       "<g clip-path=\"url(#clip0800)\">\n",
       "<text style=\"fill:#000000; fill-opacity:1; font-family:Arial,Helvetica Neue,Helvetica,sans-serif; font-size:12; text-anchor:middle;\" transform=\"rotate(0, 478.548, 373.865)\" x=\"478.548\" y=\"373.865\">2000</text>\n",
       "</g>\n",
       "<g clip-path=\"url(#clip0800)\">\n",
       "<text style=\"fill:#000000; fill-opacity:1; font-family:Arial,Helvetica Neue,Helvetica,sans-serif; font-size:12; text-anchor:end;\" transform=\"rotate(0, 51.8546, 363.25)\" x=\"51.8546\" y=\"363.25\">0</text>\n",
       "</g>\n",
       "<g clip-path=\"url(#clip0800)\">\n",
       "<text style=\"fill:#000000; fill-opacity:1; font-family:Arial,Helvetica Neue,Helvetica,sans-serif; font-size:12; text-anchor:end;\" transform=\"rotate(0, 51.8546, 288.327)\" x=\"51.8546\" y=\"288.327\">250</text>\n",
       "</g>\n",
       "<g clip-path=\"url(#clip0800)\">\n",
       "<text style=\"fill:#000000; fill-opacity:1; font-family:Arial,Helvetica Neue,Helvetica,sans-serif; font-size:12; text-anchor:end;\" transform=\"rotate(0, 51.8546, 213.403)\" x=\"51.8546\" y=\"213.403\">500</text>\n",
       "</g>\n",
       "<g clip-path=\"url(#clip0800)\">\n",
       "<text style=\"fill:#000000; fill-opacity:1; font-family:Arial,Helvetica Neue,Helvetica,sans-serif; font-size:12; text-anchor:end;\" transform=\"rotate(0, 51.8546, 138.48)\" x=\"51.8546\" y=\"138.48\">750</text>\n",
       "</g>\n",
       "<g clip-path=\"url(#clip0800)\">\n",
       "<text style=\"fill:#000000; fill-opacity:1; font-family:Arial,Helvetica Neue,Helvetica,sans-serif; font-size:12; text-anchor:end;\" transform=\"rotate(0, 51.8546, 63.557)\" x=\"51.8546\" y=\"63.557\">1000</text>\n",
       "</g>\n",
       "<g clip-path=\"url(#clip0800)\">\n",
       "<text style=\"fill:#000000; fill-opacity:1; font-family:Arial,Helvetica Neue,Helvetica,sans-serif; font-size:16; text-anchor:middle;\" transform=\"rotate(0, 319.085, 397.6)\" x=\"319.085\" y=\"397.6\">year</text>\n",
       "</g>\n",
       "<g clip-path=\"url(#clip0800)\">\n",
       "<text style=\"fill:#000000; fill-opacity:1; font-family:Arial,Helvetica Neue,Helvetica,sans-serif; font-size:16; text-anchor:middle;\" transform=\"rotate(-90, 14.4, 185.938)\" x=\"14.4\" y=\"185.938\"># of cars</text>\n",
       "</g>\n",
       "<circle clip-path=\"url(#clip0802)\" style=\"fill:#000000; stroke:none; fill-opacity:1\" cx=\"188.615\" cy=\"342.836\" r=\"4\"/>\n",
       "<circle clip-path=\"url(#clip0802)\" style=\"fill:#0000ff; stroke:none; fill-opacity:1\" cx=\"188.615\" cy=\"342.836\" r=\"3\"/>\n",
       "<circle clip-path=\"url(#clip0802)\" style=\"fill:#000000; stroke:none; fill-opacity:1\" cx=\"246.601\" cy=\"329.29\" r=\"4\"/>\n",
       "<circle clip-path=\"url(#clip0802)\" style=\"fill:#0000ff; stroke:none; fill-opacity:1\" cx=\"246.601\" cy=\"329.29\" r=\"3\"/>\n",
       "<circle clip-path=\"url(#clip0802)\" style=\"fill:#000000; stroke:none; fill-opacity:1\" cx=\"304.588\" cy=\"300.759\" r=\"4\"/>\n",
       "<circle clip-path=\"url(#clip0802)\" style=\"fill:#0000ff; stroke:none; fill-opacity:1\" cx=\"304.588\" cy=\"300.759\" r=\"3\"/>\n",
       "<circle clip-path=\"url(#clip0802)\" style=\"fill:#000000; stroke:none; fill-opacity:1\" cx=\"362.575\" cy=\"262.848\" r=\"4\"/>\n",
       "<circle clip-path=\"url(#clip0802)\" style=\"fill:#0000ff; stroke:none; fill-opacity:1\" cx=\"362.575\" cy=\"262.848\" r=\"3\"/>\n",
       "<circle clip-path=\"url(#clip0802)\" style=\"fill:#000000; stroke:none; fill-opacity:1\" cx=\"420.562\" cy=\"225.417\" r=\"4\"/>\n",
       "<circle clip-path=\"url(#clip0802)\" style=\"fill:#0000ff; stroke:none; fill-opacity:1\" cx=\"420.562\" cy=\"225.417\" r=\"3\"/>\n",
       "<circle clip-path=\"url(#clip0802)\" style=\"fill:#000000; stroke:none; fill-opacity:1\" cx=\"478.548\" cy=\"194.338\" r=\"4\"/>\n",
       "<circle clip-path=\"url(#clip0802)\" style=\"fill:#0000ff; stroke:none; fill-opacity:1\" cx=\"478.548\" cy=\"194.338\" r=\"3\"/>\n",
       "<circle clip-path=\"url(#clip0802)\" style=\"fill:#000000; stroke:none; fill-opacity:1\" cx=\"536.535\" cy=\"141.892\" r=\"4\"/>\n",
       "<circle clip-path=\"url(#clip0802)\" style=\"fill:#0000ff; stroke:none; fill-opacity:1\" cx=\"536.535\" cy=\"141.892\" r=\"3\"/>\n",
       "<polyline clip-path=\"url(#clip0802)\" style=\"stroke:#ff0000; stroke-width:1; stroke-opacity:1; fill:none\" points=\"\n",
       "  72.6412,350.209 82.7001,349.544 \n",
       "  \"/>\n",
       "<polyline clip-path=\"url(#clip0802)\" style=\"stroke:#ff0000; stroke-width:1; stroke-opacity:1; fill:none\" points=\"\n",
       "  82.7001,349.544 92.759,348.827 \n",
       "  \"/>\n",
       "<polyline clip-path=\"url(#clip0802)\" style=\"stroke:#ff0000; stroke-width:1; stroke-opacity:1; fill:none\" points=\"\n",
       "  92.759,348.827 102.818,348.054 \n",
       "  \"/>\n",
       "<polyline clip-path=\"url(#clip0802)\" style=\"stroke:#ff0000; stroke-width:1; stroke-opacity:1; fill:none\" points=\"\n",
       "  102.818,348.054 112.877,347.221 \n",
       "  \"/>\n",
       "<polyline clip-path=\"url(#clip0802)\" style=\"stroke:#ff0000; stroke-width:1; stroke-opacity:1; fill:none\" points=\"\n",
       "  112.877,347.221 122.936,346.323 \n",
       "  \"/>\n",
       "<polyline clip-path=\"url(#clip0802)\" style=\"stroke:#ff0000; stroke-width:1; stroke-opacity:1; fill:none\" points=\"\n",
       "  122.936,346.323 132.995,345.355 \n",
       "  \"/>\n",
       "<polyline clip-path=\"url(#clip0802)\" style=\"stroke:#ff0000; stroke-width:1; stroke-opacity:1; fill:none\" points=\"\n",
       "  132.995,345.355 143.054,344.311 \n",
       "  \"/>\n",
       "<polyline clip-path=\"url(#clip0802)\" style=\"stroke:#ff0000; stroke-width:1; stroke-opacity:1; fill:none\" points=\"\n",
       "  143.054,344.311 153.113,343.186 \n",
       "  \"/>\n",
       "<polyline clip-path=\"url(#clip0802)\" style=\"stroke:#ff0000; stroke-width:1; stroke-opacity:1; fill:none\" points=\"\n",
       "  153.113,343.186 163.171,341.974 \n",
       "  \"/>\n",
       "<polyline clip-path=\"url(#clip0802)\" style=\"stroke:#ff0000; stroke-width:1; stroke-opacity:1; fill:none\" points=\"\n",
       "  163.171,341.974 173.23,340.667 \n",
       "  \"/>\n",
       "<polyline clip-path=\"url(#clip0802)\" style=\"stroke:#ff0000; stroke-width:1; stroke-opacity:1; fill:none\" points=\"\n",
       "  173.23,340.667 183.289,339.259 \n",
       "  \"/>\n",
       "<polyline clip-path=\"url(#clip0802)\" style=\"stroke:#ff0000; stroke-width:1; stroke-opacity:1; fill:none\" points=\"\n",
       "  183.289,339.259 193.348,337.741 \n",
       "  \"/>\n",
       "<polyline clip-path=\"url(#clip0802)\" style=\"stroke:#ff0000; stroke-width:1; stroke-opacity:1; fill:none\" points=\"\n",
       "  193.348,337.741 203.407,336.104 \n",
       "  \"/>\n",
       "<polyline clip-path=\"url(#clip0802)\" style=\"stroke:#ff0000; stroke-width:1; stroke-opacity:1; fill:none\" points=\"\n",
       "  203.407,336.104 213.466,334.34 \n",
       "  \"/>\n",
       "<polyline clip-path=\"url(#clip0802)\" style=\"stroke:#ff0000; stroke-width:1; stroke-opacity:1; fill:none\" points=\"\n",
       "  213.466,334.34 223.525,332.439 \n",
       "  \"/>\n",
       "<polyline clip-path=\"url(#clip0802)\" style=\"stroke:#ff0000; stroke-width:1; stroke-opacity:1; fill:none\" points=\"\n",
       "  223.525,332.439 233.584,330.389 \n",
       "  \"/>\n",
       "<polyline clip-path=\"url(#clip0802)\" style=\"stroke:#ff0000; stroke-width:1; stroke-opacity:1; fill:none\" points=\"\n",
       "  233.584,330.389 243.643,328.18 \n",
       "  \"/>\n",
       "<polyline clip-path=\"url(#clip0802)\" style=\"stroke:#ff0000; stroke-width:1; stroke-opacity:1; fill:none\" points=\"\n",
       "  243.643,328.18 253.702,325.799 \n",
       "  \"/>\n",
       "<polyline clip-path=\"url(#clip0802)\" style=\"stroke:#ff0000; stroke-width:1; stroke-opacity:1; fill:none\" points=\"\n",
       "  253.702,325.799 263.761,323.232 \n",
       "  \"/>\n",
       "<polyline clip-path=\"url(#clip0802)\" style=\"stroke:#ff0000; stroke-width:1; stroke-opacity:1; fill:none\" points=\"\n",
       "  263.761,323.232 273.82,320.465 \n",
       "  \"/>\n",
       "<polyline clip-path=\"url(#clip0802)\" style=\"stroke:#ff0000; stroke-width:1; stroke-opacity:1; fill:none\" points=\"\n",
       "  273.82,320.465 283.879,317.483 \n",
       "  \"/>\n",
       "<polyline clip-path=\"url(#clip0802)\" style=\"stroke:#ff0000; stroke-width:1; stroke-opacity:1; fill:none\" points=\"\n",
       "  283.879,317.483 293.937,314.269 \n",
       "  \"/>\n",
       "<polyline clip-path=\"url(#clip0802)\" style=\"stroke:#ff0000; stroke-width:1; stroke-opacity:1; fill:none\" points=\"\n",
       "  293.937,314.269 303.996,310.804 \n",
       "  \"/>\n",
       "<polyline clip-path=\"url(#clip0802)\" style=\"stroke:#ff0000; stroke-width:1; stroke-opacity:1; fill:none\" points=\"\n",
       "  303.996,310.804 314.055,307.069 \n",
       "  \"/>\n",
       "<polyline clip-path=\"url(#clip0802)\" style=\"stroke:#ff0000; stroke-width:1; stroke-opacity:1; fill:none\" points=\"\n",
       "  314.055,307.069 324.114,303.044 \n",
       "  \"/>\n",
       "<polyline clip-path=\"url(#clip0802)\" style=\"stroke:#ff0000; stroke-width:1; stroke-opacity:1; fill:none\" points=\"\n",
       "  324.114,303.044 334.173,298.704 \n",
       "  \"/>\n",
       "<polyline clip-path=\"url(#clip0802)\" style=\"stroke:#ff0000; stroke-width:1; stroke-opacity:1; fill:none\" points=\"\n",
       "  334.173,298.704 344.232,294.027 \n",
       "  \"/>\n",
       "<polyline clip-path=\"url(#clip0802)\" style=\"stroke:#ff0000; stroke-width:1; stroke-opacity:1; fill:none\" points=\"\n",
       "  344.232,294.027 354.291,288.986 \n",
       "  \"/>\n",
       "<polyline clip-path=\"url(#clip0802)\" style=\"stroke:#ff0000; stroke-width:1; stroke-opacity:1; fill:none\" points=\"\n",
       "  354.291,288.986 364.35,283.551 \n",
       "  \"/>\n",
       "<polyline clip-path=\"url(#clip0802)\" style=\"stroke:#ff0000; stroke-width:1; stroke-opacity:1; fill:none\" points=\"\n",
       "  364.35,283.551 374.409,277.694 \n",
       "  \"/>\n",
       "<polyline clip-path=\"url(#clip0802)\" style=\"stroke:#ff0000; stroke-width:1; stroke-opacity:1; fill:none\" points=\"\n",
       "  374.409,277.694 384.468,271.38 \n",
       "  \"/>\n",
       "<polyline clip-path=\"url(#clip0802)\" style=\"stroke:#ff0000; stroke-width:1; stroke-opacity:1; fill:none\" points=\"\n",
       "  384.468,271.38 394.527,264.574 \n",
       "  \"/>\n",
       "<polyline clip-path=\"url(#clip0802)\" style=\"stroke:#ff0000; stroke-width:1; stroke-opacity:1; fill:none\" points=\"\n",
       "  394.527,264.574 404.586,257.238 \n",
       "  \"/>\n",
       "<polyline clip-path=\"url(#clip0802)\" style=\"stroke:#ff0000; stroke-width:1; stroke-opacity:1; fill:none\" points=\"\n",
       "  404.586,257.238 414.645,249.331 \n",
       "  \"/>\n",
       "<polyline clip-path=\"url(#clip0802)\" style=\"stroke:#ff0000; stroke-width:1; stroke-opacity:1; fill:none\" points=\"\n",
       "  414.645,249.331 424.703,240.808 \n",
       "  \"/>\n",
       "<polyline clip-path=\"url(#clip0802)\" style=\"stroke:#ff0000; stroke-width:1; stroke-opacity:1; fill:none\" points=\"\n",
       "  424.703,240.808 434.762,231.621 \n",
       "  \"/>\n",
       "<polyline clip-path=\"url(#clip0802)\" style=\"stroke:#ff0000; stroke-width:1; stroke-opacity:1; fill:none\" points=\"\n",
       "  434.762,231.621 444.821,221.718 \n",
       "  \"/>\n",
       "<polyline clip-path=\"url(#clip0802)\" style=\"stroke:#ff0000; stroke-width:1; stroke-opacity:1; fill:none\" points=\"\n",
       "  444.821,221.718 454.88,211.044 \n",
       "  \"/>\n",
       "<polyline clip-path=\"url(#clip0802)\" style=\"stroke:#ff0000; stroke-width:1; stroke-opacity:1; fill:none\" points=\"\n",
       "  454.88,211.044 464.939,199.539 \n",
       "  \"/>\n",
       "<polyline clip-path=\"url(#clip0802)\" style=\"stroke:#ff0000; stroke-width:1; stroke-opacity:1; fill:none\" points=\"\n",
       "  464.939,199.539 474.998,187.137 \n",
       "  \"/>\n",
       "<polyline clip-path=\"url(#clip0802)\" style=\"stroke:#ff0000; stroke-width:1; stroke-opacity:1; fill:none\" points=\"\n",
       "  474.998,187.137 485.057,173.769 \n",
       "  \"/>\n",
       "<polyline clip-path=\"url(#clip0802)\" style=\"stroke:#ff0000; stroke-width:1; stroke-opacity:1; fill:none\" points=\"\n",
       "  485.057,173.769 495.116,159.36 \n",
       "  \"/>\n",
       "<polyline clip-path=\"url(#clip0802)\" style=\"stroke:#ff0000; stroke-width:1; stroke-opacity:1; fill:none\" points=\"\n",
       "  495.116,159.36 505.175,143.829 \n",
       "  \"/>\n",
       "<polyline clip-path=\"url(#clip0802)\" style=\"stroke:#ff0000; stroke-width:1; stroke-opacity:1; fill:none\" points=\"\n",
       "  505.175,143.829 515.234,127.088 \n",
       "  \"/>\n",
       "<polyline clip-path=\"url(#clip0802)\" style=\"stroke:#ff0000; stroke-width:1; stroke-opacity:1; fill:none\" points=\"\n",
       "  515.234,127.088 525.293,109.043 \n",
       "  \"/>\n",
       "<polyline clip-path=\"url(#clip0802)\" style=\"stroke:#ff0000; stroke-width:1; stroke-opacity:1; fill:none\" points=\"\n",
       "  525.293,109.043 535.352,89.5918 \n",
       "  \"/>\n",
       "<polyline clip-path=\"url(#clip0802)\" style=\"stroke:#ff0000; stroke-width:1; stroke-opacity:1; fill:none\" points=\"\n",
       "  535.352,89.5918 545.411,68.6258 \n",
       "  \"/>\n",
       "<polyline clip-path=\"url(#clip0802)\" style=\"stroke:#ff0000; stroke-width:1; stroke-opacity:1; fill:none\" points=\"\n",
       "  545.411,68.6258 555.469,46.0267 \n",
       "  \"/>\n",
       "<polyline clip-path=\"url(#clip0802)\" style=\"stroke:#ff0000; stroke-width:1; stroke-opacity:1; fill:none\" points=\"\n",
       "  555.469,46.0267 565.528,21.6673 \n",
       "  \"/>\n",
       "<polygon clip-path=\"url(#clip0800)\" points=\"\n",
       "406.137,78.051 562.315,78.051 562.315,32.691 406.137,32.691 \n",
       "  \" fill=\"#ffffff\" fill-opacity=\"1\"/>\n",
       "<polyline clip-path=\"url(#clip0800)\" style=\"stroke:#000000; stroke-width:1; stroke-opacity:1; fill:none\" points=\"\n",
       "  406.137,78.051 562.315,78.051 562.315,32.691 406.137,32.691 406.137,78.051 \n",
       "  \"/>\n",
       "<circle clip-path=\"url(#clip0800)\" style=\"fill:#000000; stroke:none; fill-opacity:1\" cx=\"433.137\" cy=\"47.811\" r=\"6\"/>\n",
       "<circle clip-path=\"url(#clip0800)\" style=\"fill:#0000ff; stroke:none; fill-opacity:1\" cx=\"433.137\" cy=\"47.811\" r=\"5\"/>\n",
       "<g clip-path=\"url(#clip0800)\">\n",
       "<text style=\"fill:#000000; fill-opacity:1; font-family:Arial,Helvetica Neue,Helvetica,sans-serif; font-size:12; text-anchor:start;\" transform=\"rotate(0, 454.137, 52.311)\" x=\"454.137\" y=\"52.311\">data</text>\n",
       "</g>\n",
       "<polyline clip-path=\"url(#clip0800)\" style=\"stroke:#ff0000; stroke-width:1; stroke-opacity:1; fill:none\" points=\"\n",
       "  412.137,62.931 448.137,62.931 \n",
       "  \"/>\n",
       "<g clip-path=\"url(#clip0800)\">\n",
       "<text style=\"fill:#000000; fill-opacity:1; font-family:Arial,Helvetica Neue,Helvetica,sans-serif; font-size:12; text-anchor:start;\" transform=\"rotate(0, 454.137, 67.431)\" x=\"454.137\" y=\"67.431\">exponential model</text>\n",
       "</g>\n",
       "</svg>\n"
      ]
     },
     "execution_count": 21,
     "metadata": {},
     "output_type": "execute_result"
    }
   ],
   "source": [
    "using Plots\n",
    "scatter(tdata,ydata, marker=:circ, color=\"blue\", label=\"data\")\n",
    "\n",
    "t = linspace(1930, 2015)\n",
    "plot!(t, f(t), linestyle=:solid, color=\"red\", label=\"exponential model\")\n",
    "plot!(xlabel=\"year\", ylabel=\"# of cars\")"
   ]
  },
  {
   "cell_type": "markdown",
   "metadata": {},
   "source": [
    "**(c)** What does the model predict for the worldwide number of cars for 2016? Compare to the actual 2016 value of 1.2 billion cars. "
   ]
  },
  {
   "cell_type": "code",
   "execution_count": 22,
   "metadata": {},
   "outputs": [
    {
     "data": {
      "text/plain": [
       "1174.4624918147329"
      ]
     },
     "execution_count": 22,
     "metadata": {},
     "output_type": "execute_result"
    }
   ],
   "source": [
    "f(2016)"
   ]
  },
  {
   "cell_type": "markdown",
   "metadata": {},
   "source": [
    "## Power-law model\n",
    "\n",
    "**(a)** Fit the height and weight data for males ages 2-11 to a power-law model $w = c_1 h^{c_2}$. The data is from the  Centers for Disease Control.\n",
    "\n",
    "\\begin{array}{r|l|l}\n",
    "\\text{age (yrs)} & \\text{h (m)} & \\text{w (kg)} \\\\\n",
    "2 & 0.91 & 13.7 \\\\\n",
    "3 & 0.99 & 15.9 \\\\\n",
    "4 & 1.06 & 18.5 \\\\\n",
    "5 & 1.13 & 21.3 \\\\\n",
    "6 & 1.19 & 23.5 \\\\\n",
    "7 & 1.26 & 27.2 \\\\\n",
    "8 & 1.32 & 32.7 \\\\\n",
    "9 & 1.38 & 36.0 \\\\\n",
    "10 & 1.41 & 38.6 \\\\\n",
    "11 & 1.49 & 43.7 \n",
    "\\end{array}\n",
    "\n"
   ]
  },
  {
   "cell_type": "code",
   "execution_count": null,
   "metadata": {
    "collapsed": true
   },
   "outputs": [],
   "source": []
  },
  {
   "cell_type": "markdown",
   "metadata": {},
   "source": [
    "**(b)** What weight does the model predict for a 2-meter tall man? What is that in pounds?"
   ]
  },
  {
   "cell_type": "code",
   "execution_count": null,
   "metadata": {
    "collapsed": true
   },
   "outputs": [],
   "source": []
  },
  {
   "cell_type": "markdown",
   "metadata": {},
   "source": [
    "### t e^t  model\n",
    "\n",
    "**(a)** Bloodstream concentration of a drug after hypodermic injection follows the model $y = c_1 t \\, e^{c_2 t}$, where $y$ is the drug concentration. Fit the following data to the model, and plot the data and model for $0 \\leq t \\leq 24$ with dots and curves, respectively.\n",
    "\n",
    "\\begin{array}{r|l}\n",
    "\\text{t (hrs)} & \\text{concentration (ng/ml)} \\\\\n",
    "\\hline\n",
    "1 & 08.0 \\\\\n",
    "2 & 12.3 \\\\\n",
    "3 & 15.5 \\\\\n",
    "4 & 16.8 \\\\\n",
    "5 & 17.1 \\\\\n",
    "6 & 15.8 \\\\\n",
    "7 & 15.2 \\\\\n",
    "8 & 14.0 \n",
    "\\end{array}"
   ]
  },
  {
   "cell_type": "code",
   "execution_count": 35,
   "metadata": {},
   "outputs": [
    {
     "data": {
      "text/plain": [
       "-0.2151367864153562"
      ]
     },
     "execution_count": 35,
     "metadata": {},
     "output_type": "execute_result"
    }
   ],
   "source": [
    "X = readdlm(\"blood.asc\")\n",
    "tdata = X[:,1]\n",
    "ydata = X[:,2]\n",
    "A = ones(8,2)\n",
    "A[:,2] = tdata\n",
    "b = log(ydata./tdata)\n",
    "x = A\\b\n",
    "c1 = exp(x[1])\n",
    "c2 = x[2]"
   ]
  },
  {
   "cell_type": "code",
   "execution_count": 36,
   "metadata": {},
   "outputs": [
    {
     "data": {
      "text/plain": [
       "(9.790159861321683,-0.2151367864153562)"
      ]
     },
     "execution_count": 36,
     "metadata": {},
     "output_type": "execute_result"
    }
   ],
   "source": [
    "c1, c2"
   ]
  },
  {
   "cell_type": "code",
   "execution_count": 37,
   "metadata": {},
   "outputs": [
    {
     "name": "stderr",
     "output_type": "stream",
     "text": [
      "WARNING: Method definition f(Any) in module Main at In[15]:1 overwritten at In[37]:1.\n"
     ]
    },
    {
     "data": {
      "text/plain": [
       "f (generic function with 1 method)"
      ]
     },
     "execution_count": 37,
     "metadata": {},
     "output_type": "execute_result"
    }
   ],
   "source": [
    "f(t) = c1*t.*exp(c2*t)"
   ]
  },
  {
   "cell_type": "code",
   "execution_count": 39,
   "metadata": {},
   "outputs": [
    {
     "data": {
      "image/png": "[encoded data removed]",
      "text/plain": [
       "PyPlot.Figure(PyObject <matplotlib.figure.Figure object at 0x7f41661b4350>)"
      ]
     },
     "metadata": {},
     "output_type": "display_data"
    },
    {
     "data": {
      "text/plain": [
       "PyObject <matplotlib.legend.Legend object at 0x7f416613bf10>"
      ]
     },
     "execution_count": 39,
     "metadata": {},
     "output_type": "execute_result"
    }
   ],
   "source": [
    "plot(tdata, ydata, \"bo\")\n",
    "t = linspace(0,24)\n",
    "plot(t,f(t), \"r-\")\n",
    "xlabel(\"t\")\n",
    "ylabel(\"concentration\")\n",
    "legend((\"data\", \"model\"))"
   ]
  },
  {
   "cell_type": "markdown",
   "metadata": {},
   "source": [
    "**(b)** What is the expected concentration after 12 hours? 18 hrs? 24 hrs?"
   ]
  },
  {
   "cell_type": "code",
   "execution_count": 40,
   "metadata": {},
   "outputs": [
    {
     "data": {
      "text/plain": [
       "(8.887475142812818,3.6666828137512537,1.3446701506576548)"
      ]
     },
     "execution_count": 40,
     "metadata": {},
     "output_type": "execute_result"
    }
   ],
   "source": [
    "f(12), f(18), f(24)"
   ]
  },
  {
   "cell_type": "code",
   "execution_count": null,
   "metadata": {
    "collapsed": true
   },
   "outputs": [],
   "source": []
  }
 ],
 "metadata": {
  "anaconda-cloud": {},
  "kernelspec": {
   "display_name": "Julia 0.6.0",
   "language": "julia",
   "name": "julia-0.6"
  },
  "language_info": {
   "file_extension": ".jl",
   "mimetype": "application/julia",
   "name": "julia",
   "version": "0.6.0"
  }
 },
 "nbformat": 4,
 "nbformat_minor": 1
}

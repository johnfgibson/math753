{
 "cells": [
  {
   "cell_type": "markdown",
   "metadata": {},
   "source": [
    "# A failed secant search\n",
    "\n",
    "Understanding why some numerical calculations go awry. \n",
    "\n",
    "Problem 5 from the homework asks for the root of $f(x) = x^3 - 2x^2 + 4x/3 - 8/27$. Let's investigate this problem with the secant method (`secantsearch` code repeated here from the previous lecture). "
   ]
  },
  {
   "cell_type": "code",
   "execution_count": 1,
   "metadata": {
    "collapsed": false
   },
   "outputs": [
    {
     "data": {
      "text/plain": [
       "secantsearch (generic function with 2 methods)"
      ]
     },
     "execution_count": 1,
     "metadata": {},
     "output_type": "execute_result"
    }
   ],
   "source": [
    "function secantsearch(f, a::AbstractFloat, b::AbstractFloat, diagnostics=false) \n",
    "# return solution x of f(x) == 0, with a,b serving as initial guesses\n",
    "    \n",
    "    fa = f(a)           # cache values of f(a), f(b)     \n",
    "    fb = f(b)\n",
    "    \n",
    "    # set c to better of a,b (and fc, too)\n",
    "    c,fc = abs(fa) < abs(fb) ? (a,fa) : (b,fb)\n",
    "    \n",
    "    floattype = typeof((a+b)/2) # this'll eval to bigger of a,b types\n",
    "    ϵ = eps(floattype)  # machine epsilon\n",
    "    n = 1               # iteration count\n",
    "    N = 1024            # max iterations\n",
    "    \n",
    "    # start vector for storing root iterates xₙ, assign x₁ = c\n",
    "    x = zeros(floattype, 1)\n",
    "    x[1] = c\n",
    "    \n",
    "    # stop when f(c) is small, |b-a| is small relative to a and b\n",
    "    # or when we reach maximium number of iterations\n",
    "    while abs(fc) > 10ϵ && abs(b-a)/(abs(a)+abs(b)) > 10ϵ && n < N\n",
    "    \n",
    "        # compute new values for c, fc by secant approximation\n",
    "        c = a - fa*(b-a)/(fb-fa)\n",
    "        fc = f(c)\n",
    "        f′ = (fb-fa)/(b-a)\n",
    "        \n",
    "        # print diagnostics if they're turned on\n",
    "        diagnostics && println(\"n = $n, c = $c, f(c) = $(f(c))\")\n",
    "        \n",
    "        # error and exit if f(c) is bigger than both f(a) and f(b)\n",
    "        if abs(fc) > abs(fa) && abs(fc) > abs(fb)\n",
    "            println(\"secantsearch error: f(c) is bigger than f(a), f(b)\")\n",
    "            break # break out of while loop, don't store bad value c\n",
    "        end\n",
    "        \n",
    "        # replace whichever of a, b has bigger f(a), f(b)\n",
    "        if abs(fa) > abs(fb)\n",
    "            a,fa = c,fc\n",
    "        else\n",
    "            b,fb = c,fc\n",
    "        end      \n",
    "        \n",
    "        # store c in x, then increment iteration counter\n",
    "        push!(x,c)   \n",
    "        n += 1\n",
    "    end\n",
    "    \n",
    "    # return c and vector x\n",
    "    c, x\n",
    "    \n",
    "end"
   ]
  },
  {
   "cell_type": "code",
   "execution_count": 2,
   "metadata": {
    "collapsed": false
   },
   "outputs": [
    {
     "data": {
      "text/plain": [
       "f (generic function with 1 method)"
      ]
     },
     "execution_count": 2,
     "metadata": {},
     "output_type": "execute_result"
    }
   ],
   "source": [
    "f(x) = x^3 - 2*x^2 + 4/3*x - 8/27"
   ]
  },
  {
   "cell_type": "code",
   "execution_count": 3,
   "metadata": {
    "collapsed": false
   },
   "outputs": [
    {
     "name": "stdout",
     "output_type": "stream",
     "text": [
      "n = 1, c = 0.8888888888888891, f(c) = 0.010973936899862813\n",
      "n = 2, c = 0.8421052631578949, f(c) = 0.005399772129616065\n",
      "n = 3, c = 0.796785304247992, f(c) = 0.002203020416244428\n",
      "n = 4, c = 0.7655533526628087, f(c) = 0.0009669710403885645\n",
      "n = 5, c = 0.7411203540240782, f(c) = 0.0004127229640434882\n",
      "n = 6, c = 0.7229262275146178, f(c) = 0.000178069284412663\n",
      "n = 7, c = 0.7091194332075769, f(c) = 7.650996304064961e-5\n",
      "n = 8, c = 0.6987180509624937, f(c) = 3.292610616567604e-5\n",
      "n = 9, c = 0.6908601641064995, f(c) = 1.4161066591356075e-5\n",
      "n = 10, c = 0.6849301974472575, f(c) = 6.091920437989451e-6\n",
      "n = 11, c = 0.6804532819965489, f(c) = 2.6204324846679228e-6\n",
      "n = 12, c = 0.6770739084149917, f(c) = 1.1272154389896372e-6\n",
      "n = 13, c = 0.6745228512285835, f(c) = 4.848808504709368e-7\n",
      "n = 14, c = 0.6725971277812471, f(c) = 2.085765059556266e-7\n",
      "n = 15, c = 0.6711434384851674, f(c) = 8.972115939087644e-8\n",
      "n = 16, c = 0.6700460819689645, f(c) = 3.859443598042134e-8\n",
      "n = 17, c = 0.6692177117354121, f(c) = 1.6601769958768386e-8\n",
      "n = 18, c = 0.6685923936387071, f(c) = 7.141412794453572e-9\n",
      "n = 19, c = 0.6681203549430375, f(c) = 3.0719480292873413e-9\n",
      "n = 20, c = 0.6677640234781917, f(c) = 1.3214283001161675e-9\n",
      "n = 21, c = 0.6674950368029647, f(c) = 5.684250847792782e-10\n",
      "n = 22, c = 0.6672919848497244, f(c) = 2.445136315643026e-10\n",
      "n = 23, c = 0.6671387053963731, f(c) = 1.0517986481772823e-10\n",
      "n = 24, c = 0.6670229982525897, f(c) = 4.524414176643177e-11\n",
      "n = 25, c = 0.6669356535080833, f(c) = 1.9462209621678994e-11\n",
      "n = 26, c = 0.6668697188947504, f(c) = 8.371858761790918e-12\n",
      "n = 27, c = 0.6668199463242241, f(c) = 3.6013414472790828e-12\n",
      "n = 28, c = 0.6667823721976973, f(c) = 1.5489831639570184e-12\n",
      "n = 29, c = 0.6667540137527497, f(c) = 6.664668816824815e-13\n",
      "n = 30, c = 0.6667325977576534, f(c) = 2.866595849582154e-13\n",
      "n = 31, c = 0.6667164340337894, f(c) = 1.2323475573339238e-13\n",
      "n = 32, c = 0.6667042453561475, f(c) = 5.306866057708248e-14\n",
      "n = 33, c = 0.6666950267043866, f(c) = 2.275957200481571e-14\n",
      "n = 34, c = 0.6666881042735772, f(c) = 9.769962616701378e-15\n",
      "n = 35, c = 0.6666828976589513, f(c) = 4.3298697960381105e-15\n",
      "n = 36, c = 0.6666787536187389, f(c) = 1.7763568394002505e-15\n"
     ]
    }
   ],
   "source": [
    "r,x = secantsearch(f, 0.0, 1.0, true);"
   ]
  },
  {
   "cell_type": "markdown",
   "metadata": {},
   "source": [
    "Hmmm, that's interesting. The secant method took 36 iterations before stopping on this $f(x)$, when it only took 7 iterations for $f(x) = x^2 - 4$. Also, `c` is still changing in the 5th digit between the last two iterations! It looks like we only have 5 or 6 digits of accuracy in our solution $r \\approx 0.66667$. That decimal expansion is pretty suggestive, though. Let's check $f(2/3)$"
   ]
  },
  {
   "cell_type": "code",
   "execution_count": 4,
   "metadata": {
    "collapsed": false
   },
   "outputs": [
    {
     "data": {
      "text/plain": [
       "0.0"
      ]
     },
     "execution_count": 4,
     "metadata": {},
     "output_type": "execute_result"
    }
   ],
   "source": [
    "f(2/3)"
   ]
  },
  {
   "cell_type": "code",
   "execution_count": 5,
   "metadata": {
    "collapsed": false
   },
   "outputs": [
    {
     "data": {
      "text/plain": [
       "f (generic function with 1 method)"
      ]
     },
     "execution_count": 5,
     "metadata": {},
     "output_type": "execute_result"
    }
   ],
   "source": [
    "f(x) = x^3 - 2*x^2 + 4//3*x - 8//27# make rational version of f(x)"
   ]
  },
  {
   "cell_type": "code",
   "execution_count": 7,
   "metadata": {
    "collapsed": false
   },
   "outputs": [
    {
     "data": {
      "text/plain": [
       "0//1"
      ]
     },
     "execution_count": 7,
     "metadata": {},
     "output_type": "execute_result"
    }
   ],
   "source": [
    "f(2//3)  # 2//3 is an exact root of f(x)!"
   ]
  },
  {
   "cell_type": "markdown",
   "metadata": {},
   "source": [
    "Indeed, the floating-point computation of `f(2/3)` is zero, exactly! So why can't the secant search find the solution, $r=2/3$ to floating-point accuracy? i.e. `r=0.66666666666666667`?"
   ]
  },
  {
   "cell_type": "markdown",
   "metadata": {},
   "source": [
    "# Investigating limits of accuracy \n",
    "\n",
    "To understand the difficulty of solving $f(x)=0$, let's look at $f(x)$ in the neighborhood of the root $x=2/3$. Examine $f(x+\\epsilon)$ for $\\epsilon = 10^{-15}$ through $10^{-1}$."
   ]
  },
  {
   "cell_type": "code",
   "execution_count": 8,
   "metadata": {
    "collapsed": false
   },
   "outputs": [
    {
     "data": {
      "text/plain": [
       "Plots.GRBackend()"
      ]
     },
     "execution_count": 8,
     "metadata": {},
     "output_type": "execute_result"
    }
   ],
   "source": [
    "using Plots\n",
    "gr()"
   ]
  },
  {
   "cell_type": "code",
   "execution_count": 9,
   "metadata": {
    "collapsed": false
   },
   "outputs": [
    {
     "data": {
      "text/html": [
       "<?xml version=\"1.0\" encoding=\"utf-8\"?>\n",
       "<svg xmlns=\"http://www.w3.org/2000/svg\" xmlns:xlink=\"http://www.w3.org/1999/xlink\" width=\"600\" height=\"400\" viewBox=\"0 0 600 400\">\n",
       "<defs>\n",
       "  <clipPath id=\"clip00\">\n",
       "    <rect x=\"0\" y=\"0\" width=\"600\" height=\"400\"/>\n",
       "  </clipPath>\n",
       "</defs>\n",
       "<polygon clip-path=\"url(#clip00)\" points=\"\n",
       "0,400 600,400 600,0 0,0 \n",
       "  \" fill=\"#ffffff\" fill-opacity=\"1\"/>\n",
       "<defs>\n",
       "  <clipPath id=\"clip01\">\n",
       "    <rect x=\"120\" y=\"0\" width=\"421\" height=\"400\"/>\n",
       "  </clipPath>\n",
       "</defs>\n",
       "<polygon clip-path=\"url(#clip00)\" points=\"\n",
       "39.1436,375.813 580.315,375.813 580.315,11.811 39.1436,11.811 \n",
       "  \" fill=\"#ffffff\" fill-opacity=\"1\"/>\n",
       "<defs>\n",
       "  <clipPath id=\"clip02\">\n",
       "    <rect x=\"39\" y=\"11\" width=\"542\" height=\"365\"/>\n",
       "  </clipPath>\n",
       "</defs>\n",
       "<polyline clip-path=\"url(#clip02)\" style=\"stroke:#000000; stroke-width:0.5; stroke-opacity:0.1; fill:none\" points=\"\n",
       "  39.1436,370.353 39.1436,17.2711 \n",
       "  \"/>\n",
       "<polyline clip-path=\"url(#clip02)\" style=\"stroke:#000000; stroke-width:0.5; stroke-opacity:0.1; fill:none\" points=\"\n",
       "  264.632,370.353 264.632,17.2711 \n",
       "  \"/>\n",
       "<polyline clip-path=\"url(#clip02)\" style=\"stroke:#000000; stroke-width:0.5; stroke-opacity:0.1; fill:none\" points=\"\n",
       "  490.12,370.353 490.12,17.2711 \n",
       "  \"/>\n",
       "<polyline clip-path=\"url(#clip02)\" style=\"stroke:#000000; stroke-width:0.5; stroke-opacity:0.1; fill:none\" points=\"\n",
       "  47.2612,297.572 572.197,297.572 \n",
       "  \"/>\n",
       "<polyline clip-path=\"url(#clip02)\" style=\"stroke:#000000; stroke-width:0.5; stroke-opacity:0.1; fill:none\" points=\"\n",
       "  47.2612,216.322 572.197,216.322 \n",
       "  \"/>\n",
       "<polyline clip-path=\"url(#clip02)\" style=\"stroke:#000000; stroke-width:0.5; stroke-opacity:0.1; fill:none\" points=\"\n",
       "  47.2612,135.071 572.197,135.071 \n",
       "  \"/>\n",
       "<polyline clip-path=\"url(#clip02)\" style=\"stroke:#000000; stroke-width:0.5; stroke-opacity:0.1; fill:none\" points=\"\n",
       "  47.2612,53.8206 572.197,53.8206 \n",
       "  \"/>\n",
       "<polyline clip-path=\"url(#clip00)\" style=\"stroke:#000000; stroke-width:1; stroke-opacity:1; fill:none\" points=\"\n",
       "  39.1436,375.813 580.315,375.813 \n",
       "  \"/>\n",
       "<polyline clip-path=\"url(#clip00)\" style=\"stroke:#000000; stroke-width:1; stroke-opacity:1; fill:none\" points=\"\n",
       "  39.1436,375.813 39.1436,370.353 \n",
       "  \"/>\n",
       "<polyline clip-path=\"url(#clip00)\" style=\"stroke:#000000; stroke-width:1; stroke-opacity:1; fill:none\" points=\"\n",
       "  264.632,375.813 264.632,370.353 \n",
       "  \"/>\n",
       "<polyline clip-path=\"url(#clip00)\" style=\"stroke:#000000; stroke-width:1; stroke-opacity:1; fill:none\" points=\"\n",
       "  490.12,375.813 490.12,370.353 \n",
       "  \"/>\n",
       "<polyline clip-path=\"url(#clip00)\" style=\"stroke:#000000; stroke-width:1; stroke-opacity:1; fill:none\" points=\"\n",
       "  39.1436,375.813 39.1436,11.811 \n",
       "  \"/>\n",
       "<polyline clip-path=\"url(#clip00)\" style=\"stroke:#000000; stroke-width:1; stroke-opacity:1; fill:none\" points=\"\n",
       "  39.1436,297.572 47.2612,297.572 \n",
       "  \"/>\n",
       "<polyline clip-path=\"url(#clip00)\" style=\"stroke:#000000; stroke-width:1; stroke-opacity:1; fill:none\" points=\"\n",
       "  39.1436,216.322 47.2612,216.322 \n",
       "  \"/>\n",
       "<polyline clip-path=\"url(#clip00)\" style=\"stroke:#000000; stroke-width:1; stroke-opacity:1; fill:none\" points=\"\n",
       "  39.1436,135.071 47.2612,135.071 \n",
       "  \"/>\n",
       "<polyline clip-path=\"url(#clip00)\" style=\"stroke:#000000; stroke-width:1; stroke-opacity:1; fill:none\" points=\"\n",
       "  39.1436,53.8206 47.2612,53.8206 \n",
       "  \"/>\n",
       "<g clip-path=\"url(#clip00)\">\n",
       "<text style=\"fill:#000000; fill-opacity:1; font-family:Arial,Helvetica Neue,Helvetica,sans-serif; font-size:12; text-anchor:middle;\" transform=\"rotate(0, 39.1436, 389.613)\" x=\"39.1436\" y=\"389.613\">0.0</text>\n",
       "</g>\n",
       "<g clip-path=\"url(#clip00)\">\n",
       "<text style=\"fill:#000000; fill-opacity:1; font-family:Arial,Helvetica Neue,Helvetica,sans-serif; font-size:12; text-anchor:middle;\" transform=\"rotate(0, 264.632, 389.613)\" x=\"264.632\" y=\"389.613\">0.5</text>\n",
       "</g>\n",
       "<g clip-path=\"url(#clip00)\">\n",
       "<text style=\"fill:#000000; fill-opacity:1; font-family:Arial,Helvetica Neue,Helvetica,sans-serif; font-size:12; text-anchor:middle;\" transform=\"rotate(0, 490.12, 389.613)\" x=\"490.12\" y=\"389.613\">1.0</text>\n",
       "</g>\n",
       "<g clip-path=\"url(#clip00)\">\n",
       "<text style=\"fill:#000000; fill-opacity:1; font-family:Arial,Helvetica Neue,Helvetica,sans-serif; font-size:12; text-anchor:end;\" transform=\"rotate(0, 33.1436, 302.072)\" x=\"33.1436\" y=\"302.072\">-0.2</text>\n",
       "</g>\n",
       "<g clip-path=\"url(#clip00)\">\n",
       "<text style=\"fill:#000000; fill-opacity:1; font-family:Arial,Helvetica Neue,Helvetica,sans-serif; font-size:12; text-anchor:end;\" transform=\"rotate(0, 33.1436, 220.822)\" x=\"33.1436\" y=\"220.822\">-0.1</text>\n",
       "</g>\n",
       "<g clip-path=\"url(#clip00)\">\n",
       "<text style=\"fill:#000000; fill-opacity:1; font-family:Arial,Helvetica Neue,Helvetica,sans-serif; font-size:12; text-anchor:end;\" transform=\"rotate(0, 33.1436, 139.571)\" x=\"33.1436\" y=\"139.571\">0.0</text>\n",
       "</g>\n",
       "<g clip-path=\"url(#clip00)\">\n",
       "<text style=\"fill:#000000; fill-opacity:1; font-family:Arial,Helvetica Neue,Helvetica,sans-serif; font-size:12; text-anchor:end;\" transform=\"rotate(0, 33.1436, 58.3206)\" x=\"33.1436\" y=\"58.3206\">0.1</text>\n",
       "</g>\n",
       "<polyline clip-path=\"url(#clip02)\" style=\"stroke:#009af9; stroke-width:1; stroke-opacity:1; fill:none\" points=\"\n",
       "  39.1436,375.813 50.1879,350.245 61.2322,326.555 72.2765,304.67 83.3208,284.52 94.3652,266.033 105.409,249.137 116.454,233.76 127.498,219.831 138.542,207.279 \n",
       "  149.587,196.032 160.631,186.017 171.675,177.165 182.72,169.402 193.764,162.658 204.808,156.86 215.853,151.937 226.897,147.818 237.941,144.431 248.986,141.705 \n",
       "  260.03,139.567 271.074,137.946 282.118,136.771 293.163,135.969 304.207,135.47 315.251,135.202 326.296,135.093 337.34,135.071 348.384,135.065 359.429,135.004 \n",
       "  370.473,134.815 381.517,134.428 392.562,133.77 403.606,132.769 414.65,131.355 425.695,129.456 436.739,127 447.783,123.915 458.828,120.13 469.872,115.574 \n",
       "  480.916,110.174 491.96,103.859 503.005,96.5579 514.049,88.1985 525.093,78.7093 536.138,68.0187 547.182,56.0552 558.226,42.7472 569.271,28.023 580.315,11.811 \n",
       "  \n",
       "  \"/>\n",
       "<polygon clip-path=\"url(#clip00)\" points=\"\n",
       "485.201,62.931 562.315,62.931 562.315,32.691 485.201,32.691 \n",
       "  \" fill=\"#ffffff\" fill-opacity=\"1\"/>\n",
       "<polyline clip-path=\"url(#clip00)\" style=\"stroke:#000000; stroke-width:1; stroke-opacity:1; fill:none\" points=\"\n",
       "  485.201,62.931 562.315,62.931 562.315,32.691 485.201,32.691 485.201,62.931 \n",
       "  \"/>\n",
       "<polyline clip-path=\"url(#clip00)\" style=\"stroke:#009af9; stroke-width:1; stroke-opacity:1; fill:none\" points=\"\n",
       "  491.201,47.811 527.201,47.811 \n",
       "  \"/>\n",
       "<g clip-path=\"url(#clip00)\">\n",
       "<text style=\"fill:#000000; fill-opacity:1; font-family:Arial,Helvetica Neue,Helvetica,sans-serif; font-size:12; text-anchor:start;\" transform=\"rotate(0, 533.201, 52.311)\" x=\"533.201\" y=\"52.311\">f(x)</text>\n",
       "</g>\n",
       "</svg>\n"
      ]
     },
     "execution_count": 9,
     "metadata": {},
     "output_type": "execute_result"
    }
   ],
   "source": [
    "x = linspace(0, 1.2)\n",
    "plot(x, f.(x), label=\"f(x)\")"
   ]
  },
  {
   "cell_type": "code",
   "execution_count": null,
   "metadata": {
    "collapsed": false
   },
   "outputs": [],
   "source": [
    "ϵ = logspace(-15,-1,15)"
   ]
  },
  {
   "cell_type": "code",
   "execution_count": null,
   "metadata": {
    "collapsed": false
   },
   "outputs": [],
   "source": [
    "f.(2/3+ϵ)  # f.(x) means apply f to each component of x"
   ]
  },
  {
   "cell_type": "markdown",
   "metadata": {},
   "source": [
    "Wha...? $f(2/3 + \\epsilon)$ evaluates to zero for $\\epsilon$ from $10^{-15}$ to $10^{-6}$ !!!\n",
    "\n",
    "If  $f(2/3 + 10^{-5})$ evaluates to zero, then it's no suprise that we can't determine the $x=2/3$ root of $f(x)$ to more than five digits of accuracy.\n",
    "\n",
    "Let's plot $f(x)$ around the root to get a sense of its behavior."
   ]
  },
  {
   "cell_type": "code",
   "execution_count": null,
   "metadata": {
    "collapsed": false
   },
   "outputs": [],
   "source": [
    "using Plots\n",
    "gr()\n",
    "ϵ = 0.00011\n",
    "x = linspace(2/3-ϵ, 2/3+ϵ, 11)\n",
    "plot(x,f.(x), marker=:circ, label=\"f(x)\")"
   ]
  },
  {
   "cell_type": "code",
   "execution_count": 26,
   "metadata": {
    "collapsed": false
   },
   "outputs": [
    {
     "name": "stdout",
     "output_type": "stream",
     "text": [
      "(2 / 3 - ϵ, 2 / 3 + ϵ) = (0.6666656666666666, 0.6666676666666667)\n"
     ]
    },
    {
     "data": {
      "text/plain": [
       "11-element Array{Float64,1}:\n",
       " -1.11022e-16\n",
       "  0.0        \n",
       "  0.0        \n",
       " -1.11022e-16\n",
       "  0.0        \n",
       "  0.0        \n",
       " -1.11022e-16\n",
       "  0.0        \n",
       "  0.0        \n",
       "  0.0        \n",
       "  0.0        "
      ]
     },
     "execution_count": 26,
     "metadata": {},
     "output_type": "execute_result"
    }
   ],
   "source": [
    "ϵ = 1e-6\n",
    "x = linspace(2/3-ϵ, 2/3+ϵ, 11)\n",
    "@show (2/3-ϵ, 2/3+ϵ)\n",
    "f.(x)"
   ]
  },
  {
   "cell_type": "code",
   "execution_count": 16,
   "metadata": {
    "collapsed": false
   },
   "outputs": [
    {
     "name": "stdout",
     "output_type": "stream",
     "text": [
      "collect(x) = [0.666666, 0.666666, 0.666666, 0.666666, 0.666666, 0.666667, 0.666667, 0.666667, 0.666667, 0.666667, 0.666668]\n"
     ]
    },
    {
     "data": {
      "text/plain": [
       "11-element Array{Float64,1}:\n",
       " 0.666666\n",
       " 0.666666\n",
       " 0.666666\n",
       " 0.666666\n",
       " 0.666666\n",
       " 0.666667\n",
       " 0.666667\n",
       " 0.666667\n",
       " 0.666667\n",
       " 0.666667\n",
       " 0.666668"
      ]
     },
     "execution_count": 16,
     "metadata": {},
     "output_type": "execute_result"
    }
   ],
   "source": []
  },
  {
   "cell_type": "code",
   "execution_count": 18,
   "metadata": {
    "collapsed": false
   },
   "outputs": [
    {
     "data": {
      "text/plain": [
       "g (generic function with 1 method)"
      ]
     },
     "execution_count": 18,
     "metadata": {},
     "output_type": "execute_result"
    }
   ],
   "source": [
    "g(x) = (x-2/3)^3"
   ]
  },
  {
   "cell_type": "code",
   "execution_count": null,
   "metadata": {
    "collapsed": false
   },
   "outputs": [],
   "source": [
    "g.(x)"
   ]
  },
  {
   "cell_type": "code",
   "execution_count": 31,
   "metadata": {
    "collapsed": false
   },
   "outputs": [
    {
     "name": "stdout",
     "output_type": "stream",
     "text": [
      "(2 / 3 - ϵ, 2 / 3 + ϵ) = (0.6666666666666566, 0.6666666666666766)\n"
     ]
    },
    {
     "data": {
      "text/plain": [
       "11-element Array{Float64,1}:\n",
       " -9.97604e-43\n",
       " -5.10773e-43\n",
       " -2.15482e-43\n",
       " -6.38467e-44\n",
       " -7.98083e-45\n",
       "  0.0        \n",
       "  7.98083e-45\n",
       "  6.38467e-44\n",
       "  2.15482e-43\n",
       "  5.10773e-43\n",
       "  9.97604e-43"
      ]
     },
     "execution_count": 31,
     "metadata": {},
     "output_type": "execute_result"
    }
   ],
   "source": [
    "ϵ = 1e-14\n",
    "x = linspace(2/3-ϵ, 2/3+ϵ, 11)\n",
    "@show (2/3-ϵ, 2/3+ϵ)\n",
    "g.(x)"
   ]
  },
  {
   "cell_type": "markdown",
   "metadata": {},
   "source": [
    "## Question\n",
    "\n",
    "$f(x) = x^3 - 2x^2 + 4/3 \\, x - 8/27$ and $g(x) = (x-2/3)^3$ are the same function, mathematically, with the same root $r=2/3$. That is, $f(2/3) = g(2/3) = 0$. \n",
    "\n",
    "So why do $f(x)$ and $g(x)$ behave so differently in the neighborhood of the root, when evaluated on a computer?"
   ]
  },
  {
   "cell_type": "code",
   "execution_count": null,
   "metadata": {
    "collapsed": true
   },
   "outputs": [],
   "source": []
  }
 ],
 "metadata": {
  "kernelspec": {
   "display_name": "Julia 0.6.0",
   "language": "julia",
   "name": "julia-0.6"
  },
  "language_info": {
   "file_extension": ".jl",
   "mimetype": "application/julia",
   "name": "julia",
   "version": "0.6.0"
  }
 },
 "nbformat": 4,
 "nbformat_minor": 2
}

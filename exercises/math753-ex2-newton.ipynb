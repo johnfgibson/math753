{
 "cells": [
  {
   "cell_type": "markdown",
   "metadata": {},
   "source": [
    "# Multi-d Newton method exercise\n",
    "\n",
    "### Step 1\n",
    "\n",
    "Write a Julia function `newtonmethod(f, xguess)` that uses multidimensional Newton method to find a solution $x$ to the equation $f(x) = 0$. The vector $x$ and function $f$ should have the same dimension $m$, i.e. $f : \\mathbb{R}^m \\rightarrow \\mathbb{R}^m$. \n",
    "\n",
    "For this version of `newtonmethod`, you will have to approximate the matrix of partial derivates $Df$ using finite differencing on the function $f(x)$. "
   ]
  },
  {
   "cell_type": "code",
   "execution_count": null,
   "metadata": {
    "collapsed": true
   },
   "outputs": [],
   "source": []
  },
  {
   "cell_type": "markdown",
   "metadata": {},
   "source": [
    "### Step 2\n",
    "\n",
    "Use your `newtonmethod` function to solve the following system of equations\n",
    "\n",
    "\\begin{align*}\n",
    "x^2 + y^2 &= 1 \\\\\n",
    "e^{x-1} + y^3 &= 2\n",
    "\\end{align*}\n",
    "\n",
    "using initial guess $x=1.5, y=2$. Note that system of equations has solution $x=1, y=1$;\n",
    "your Newton method shoyuld converge on that solution."
   ]
  },
  {
   "cell_type": "code",
   "execution_count": null,
   "metadata": {
    "collapsed": true
   },
   "outputs": [],
   "source": []
  }
 ],
 "metadata": {
  "kernelspec": {
   "display_name": "Julia 0.6.1",
   "language": "julia",
   "name": "julia-0.6"
  },
  "language_info": {
   "file_extension": ".jl",
   "mimetype": "application/julia",
   "name": "julia",
   "version": "0.6.1"
  }
 },
 "nbformat": 4,
 "nbformat_minor": 0
}

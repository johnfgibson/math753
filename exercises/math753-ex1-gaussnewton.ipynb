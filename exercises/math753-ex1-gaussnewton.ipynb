{
 "cells": [
  {
   "cell_type": "markdown",
   "metadata": {},
   "source": [
    "# Gauss-Newton example: cell phone triangularization\n",
    "\n",
    "### Step 1:\n",
    "\n",
    "Write a Julia function `gaussNewton` that computes the least-squares solution $x$ to the overdetermined nonlinear equation $f(x) = 0$ using using Gauss-Newton iteration. You can choose between two different approaches, based on different sets of arguments\n",
    "\n",
    "  * `gaussNewton(f, x)` which estimates the matrix of partial derivatives via finite differencing, or \n",
    "  * `gaussNewton(f, x, Df)` which computes the matrix of partial derivatives from a user-supplied function `Df(x)`. "
   ]
  },
  {
   "cell_type": "code",
   "execution_count": null,
   "metadata": {
    "collapsed": true
   },
   "outputs": [],
   "source": []
  },
  {
   "cell_type": "markdown",
   "metadata": {},
   "source": [
    "### Step 2:\n",
    "\n",
    "Let $(a_i, b_i)$ be a list of positions of cell phone towers in the $x,y$ plane,\n",
    "and let $r_i$ be the list of distances from each tower to your phone at the unknown point $(x,y)$ (measured approximately by the transmission times of signals).\n",
    "\n",
    "\\begin{equation*}\n",
    "r_i^2 = (x - a_i)^2 + (y - b_i)^2\n",
    "\\end{equation*}\n",
    "\n",
    "Translate this system of equations into a vector-valued function of the form $f(x) = 0$, where $x$ is a vector $x=(x_1, x_2)$ instead of the previous variables $(x,y)$. "
   ]
  },
  {
   "cell_type": "markdown",
   "metadata": {},
   "source": [
    "### Step 3: \n",
    "\n",
    "Test your Gauss-Newton code on a simple problem whose solution is straightforward. A good simple problem is to put the cell phone towers at the corners of a square: (1,1), (1,3), (3,1), and (3,3), and the cell phone user at the center of the square (2,2). The cell phone user is than equiditant from each tower, with distance $\\sqrt{2} \\approx 1.414$. But due to some noise or innaccuracy, the distances to those four towers are measured as $r = (1.41, 1.45, 1.43, 1.42)$, respectively.\n",
    "\n",
    "Write a Julia function `f(x)` that instantiates your $f(x)$ function from step 2 with the appropriate constants filled in. A really good solution will put the cell phone tower locations in two vectors `a` and `b`, the distances in a vector `r`, and then construct the function `f(x)` from `a,b,r` in a single line of Julia code."
   ]
  },
  {
   "cell_type": "code",
   "execution_count": null,
   "metadata": {
    "collapsed": true
   },
   "outputs": [],
   "source": []
  },
  {
   "cell_type": "markdown",
   "metadata": {},
   "source": [
    "### Step 4:\n",
    "\n",
    "Now try your Gauss-Newton code on a problem with unknown solution. Your phone measures distances (5, 3.6, 4.1, 6) to cell towers at (1,1), (0,3), (4,2), and (8,8). Where are you?"
   ]
  },
  {
   "cell_type": "code",
   "execution_count": null,
   "metadata": {
    "collapsed": true
   },
   "outputs": [],
   "source": []
  },
  {
   "cell_type": "markdown",
   "metadata": {},
   "source": [
    "### Step 5:\n",
    "\n",
    "Make a plot for the above problem, showing the cell phone towers as dots with circles around them of the right radii, and your answer from 4 with another symbol. Is the solution computed from step 4 located close to where all the circles nearly intersect?"
   ]
  },
  {
   "cell_type": "code",
   "execution_count": null,
   "metadata": {
    "collapsed": true
   },
   "outputs": [],
   "source": []
  }
 ],
 "metadata": {
  "kernelspec": {
   "display_name": "Julia 0.6.1",
   "language": "julia",
   "name": "julia-0.6"
  },
  "language_info": {
   "file_extension": ".jl",
   "mimetype": "application/julia",
   "name": "julia",
   "version": "0.6.1"
  }
 },
 "nbformat": 4,
 "nbformat_minor": 0
}

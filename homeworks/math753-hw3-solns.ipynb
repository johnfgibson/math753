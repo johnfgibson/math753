{
 "cells": [
  {
   "cell_type": "markdown",
   "metadata": {},
   "source": [
    "# Math 753/853 HW3: QR decomposition\n",
    "\n",
    "## Before you begin!\n",
    "\n",
    "**First rename this file \"math753-hw3-mylastname\"** using your last name in the indicated spot. With the file extension, the full filename should be \"math753-hw3-mylastname.ipynb\". No capital letters, please. \n",
    "\n",
    "**To submit the homework** email it to `john.gibson@unh.edu` with the subject \"MATH 753 HW3\" by midnight, Sunday Oct 15, 2017.\n",
    "\n",
    "**Writing explanations in your solutions.**  Many of the problems ask for *explanations* of answers and calculations. For these you should write one to several complete sentences that explain the reasoning behind your work in a manner that would be helpful to a fellow student.\n"
   ]
  },
  {
   "cell_type": "markdown",
   "metadata": {},
   "source": [
    "## Problem 1\n",
    "\n",
    "Write a `qrcgs` function that computes the QR decomposition of a square matrix `A` using the Classical Gram-Schmidt algorithm (CGS). \n",
    "\n",
    "   *  The function should take a matrix `A` as input and return matrices `Q,R`. \n",
    "   \n",
    "   * Test your QR decomposition on a random 5 x 5 matrix. Check that `Q` is orthogonal, that `R` is upper-triangular, and that `A = QR`."
   ]
  },
  {
   "cell_type": "code",
   "execution_count": null,
   "metadata": {
    "collapsed": true
   },
   "outputs": [],
   "source": []
  },
  {
   "cell_type": "markdown",
   "metadata": {},
   "source": [
    "## Problem 2\n",
    "\n",
    "Write a `backsubstitution` function that solves the system $Rx = \\hat{b}$ for square upper-triangular $R$.\n",
    "\n",
    "  * The function should take a matrix $R$ and a vector $\\hat{b}$ as inputs and return a vector $x$. \n",
    "  * Test your backsubstitution function using the 5 x 5 upper-triangular $R$ from your QR decomp test, a random vector $x$, computing $\\hat{b} = Rx$, and then applying the `backsubstitution` function to compute the numerical solution $\\hat{x}$ and checking that $\\hat{x} \\approx x$. "
   ]
  },
  {
   "cell_type": "code",
   "execution_count": null,
   "metadata": {
    "collapsed": true
   },
   "outputs": [],
   "source": []
  },
  {
   "cell_type": "markdown",
   "metadata": {},
   "source": [
    "## Problem 3\n",
    "\n",
    "Write a `solve` function that solves an $Ax=b$ system for $x$, given square matrix $A$ and vector $b$, using your `qrcgs` and `backsubstitution` functions.\n",
    "\n",
    "  * The function should take $A$ and $b$ as inputs and return a vector $x$. \n",
    "  * Test your `solve` function on a random 5 x 5 $A$, a random vector $x$, and a $b$ vector computed from $b = Ax$."
   ]
  },
  {
   "cell_type": "code",
   "execution_count": null,
   "metadata": {
    "collapsed": true
   },
   "outputs": [],
   "source": []
  },
  {
   "cell_type": "markdown",
   "metadata": {},
   "source": [
    "## Problem 4\n",
    "\n",
    "Test your `solve` function on a random 100 x 100 $Ax=b$ problem and comment on the results. Is the numerical solution accurate to the degree you expect from the Conditioning and Accuracy Theorem?"
   ]
  },
  {
   "cell_type": "code",
   "execution_count": null,
   "metadata": {
    "collapsed": true
   },
   "outputs": [],
   "source": [
    "m = 100\n",
    "A = randn(m,m)\n",
    "x = randn(m)\n",
    "b = A*x;"
   ]
  },
  {
   "cell_type": "markdown",
   "metadata": {},
   "source": [
    "## Problem 5\n",
    "\n",
    "Test your `solve` function on the following 5 x 5 $Ax=b$ problem and comment on the results. Is the numerical solution accurate to the degree you expect from the Conditioning and Accuracy Theorem?\n"
   ]
  },
  {
   "cell_type": "code",
   "execution_count": null,
   "metadata": {
    "collapsed": true
   },
   "outputs": [],
   "source": [
    "m = 5\n",
    "(U,tmp) = qr(randn(m,m))\n",
    "(V,tmp) = qr(randn(m,m))\n",
    "Σ = Diagonal([1, 1e-4, 1e-8, 1e-10, 1e-12])\n",
    "A = U*Σ*V'\n",
    "x = U[:,1]\n",
    "b = A*x;"
   ]
  },
  {
   "cell_type": "markdown",
   "metadata": {},
   "source": [
    "## Problem 6\n",
    "\n",
    "What went wrong on problem 5? See how much you can narrow down the source of the problem by examining the QR decomposition produced by your `qrcgs` function for the $A$ matrix of problem 5. "
   ]
  },
  {
   "cell_type": "code",
   "execution_count": null,
   "metadata": {
    "collapsed": true
   },
   "outputs": [],
   "source": []
  }
 ],
 "metadata": {
  "kernelspec": {
   "display_name": "Julia 0.6.0",
   "language": "julia",
   "name": "julia-0.6"
  },
  "language_info": {
   "file_extension": ".jl",
   "mimetype": "application/julia",
   "name": "julia",
   "version": "0.6.0"
  }
 },
 "nbformat": 4,
 "nbformat_minor": 0
}

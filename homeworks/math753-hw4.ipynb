{
 "cells": [
  {
   "cell_type": "markdown",
   "metadata": {},
   "source": [
    "# Math 753/853 HW4 Polynomial Interpolation"
   ]
  },
  {
   "cell_type": "markdown",
   "metadata": {},
   "source": [
    "## Problem 1\n",
    "\n",
    "**(a)** Write a function `polyeval(c,x)` that implements Horner's method for polynomial interpolation without base points. I.e. given a vector of monomial coefficients $c$ you want to evaluate the polynomial \n",
    "\n",
    "\\begin{equation*}\n",
    "P(x) = \\sum_{n=0}^{m-1} c_n x^n\n",
    "\\end{equation*}\n",
    "\n",
    "using Horner's method of nested multiplication. E.g. write the function so that it evaluates the polynomial \n",
    "\n",
    "\\begin{equation*}\n",
    "P(x) = c_0 + c_1 x + c_2 x^2 + c_3 x^3 + c_4 x^4\n",
    "\\end{equation*}\n",
    "\n",
    "with this series of multiplications and additions\n",
    "\n",
    "\\begin{equation*}\n",
    "P(x) = c_0 + x \\, [c_1 + x \\, [c_2 + x \\, [c_3 + x \\, c_4]]]\n",
    "\\end{equation*}\n",
    "\n",
    "Your function should have inputs $c$ and $x$, and it should return $P(x)$. Make sure the function works when $x$ is a vector, returning a vector of values $P(x)$. Your function should also work equally well on all numerical types. \n",
    "\n",
    "**Warning:** Note that the natural mathematical expressions for polynomials have indices that start at 0, but that\n",
    "Julia and many other programming languages use indices that start at 1. You'll have to negotiate this difference when writing your Horner evaluation function "
   ]
  },
  {
   "cell_type": "code",
   "execution_count": null,
   "metadata": {
    "collapsed": true
   },
   "outputs": [],
   "source": []
  },
  {
   "cell_type": "markdown",
   "metadata": {},
   "source": [
    "**(b)** Test your `polyeval(c,x)` function on a simple quadratic or cubic polynomial of your choice. Do this by constructing a simple polynomial function in Julia, e.g. $f(x) = 1 + 2x - 3x^2$, plotting a few points `(x, f(x))` with dots, and then plotting the same polynomial as a smooth line using your `polyeval` function with inputs `c=[1 2 -3]` and an `x` vector created with `linspace`. Label the axes and add a legend that shows which symbol is for the datapoints and which is for `polyeval`."
   ]
  },
  {
   "cell_type": "code",
   "execution_count": null,
   "metadata": {
    "collapsed": true
   },
   "outputs": [],
   "source": []
  },
  {
   "cell_type": "markdown",
   "metadata": {},
   "source": [
    "## Problem 2\n",
    "\n",
    "**(a).** Write a function `polyeval(c,b,x)` that implements Horner's method for polynomial interpolation *with*  base points. E.g. given a vector of five coefficients `c` and four base points `b` you want to evaluate the polynomial \n",
    "\n",
    "\\begin{equation*}\n",
    "P(x) = c_0 + (x - b_1) \\, [c_1 + (x - b_2) [c_2 + (x - b_3) [c_3 + (x - b_4) \\, c_4]]]\n",
    "\\end{equation*}\n",
    "\n",
    "Your function should have inputs `c`, `b`, and `x`, and as in problem 1(a), it should work on vectors `x` of arbitrary numeric type. Typically the base points $b$ will be the $x$ values $x_1, x_2, \\ldots,$ of the datapoints $(x_i, y_i)$ used in a Newton divided difference polynomial fit."
   ]
  },
  {
   "cell_type": "code",
   "execution_count": null,
   "metadata": {
    "collapsed": true
   },
   "outputs": [],
   "source": []
  },
  {
   "cell_type": "markdown",
   "metadata": {},
   "source": [
    "**(b)** As in problem 1(b), test your `polyeval(c,b,x)` function graphically on the polynomial \n",
    "$P(x) = 3 + (x-1)[-2 + (x-2) [1 + (x-3) \\, 2]$."
   ]
  },
  {
   "cell_type": "code",
   "execution_count": null,
   "metadata": {
    "collapsed": true
   },
   "outputs": [],
   "source": []
  },
  {
   "cell_type": "markdown",
   "metadata": {},
   "source": [
    "# Problem 3\n",
    "\n",
    "**(a)** To familiarize yourself with the Newton Divided Differences algorithm, work out on paper (or in text/markdown in this notebook) the cubic interpolating polynomial for the $(x,y)$ data points $(-2,8), (0, 4), (1,2), (3,-3)$. "
   ]
  },
  {
   "cell_type": "code",
   "execution_count": null,
   "metadata": {
    "collapsed": true
   },
   "outputs": [],
   "source": []
  },
  {
   "cell_type": "markdown",
   "metadata": {},
   "source": [
    "**(b)** Make a plot that verifies your interpolating polynomial graphically, showing the data points as dots and the interpolant as a smooth curve."
   ]
  },
  {
   "cell_type": "code",
   "execution_count": null,
   "metadata": {
    "collapsed": true
   },
   "outputs": [],
   "source": []
  },
  {
   "cell_type": "markdown",
   "metadata": {},
   "source": [
    "# Problem 4\n",
    "\n",
    "**(a)** Write a function ``newtondivdiff(x,y)`` that returns `(c,b)`, the polynomial coefficients `c` and the base points `b` for the polynomial interpolant that passes through the data points $(x_1, y_1), (x_2, y_2), \\dots, (x_m, y_m)$. The return values $c$ and $b$ should be arranged to pass directly into your `polyeval(c,b)` function from problem 2."
   ]
  },
  {
   "cell_type": "code",
   "execution_count": null,
   "metadata": {
    "collapsed": true
   },
   "outputs": [],
   "source": []
  },
  {
   "cell_type": "markdown",
   "metadata": {},
   "source": [
    "**(b)** Test your ``newtondivdiff(x,y)`` function with this series of steps\n",
    "\n",
    "  1. construct a quadratic or cubic polynomial, e.g. $f(x) = 1 + 2x - 3x^2$\n",
    "  2. construct a vector `xdata` with three values for a quadratic, or four for a cubic, e.g. `xdata = [-2 -1 1]`.\n",
    "  3. evaluate $f$ at `xdata` to get a vector of $y$ values `ydata`\n",
    "  4. compute the coefficients `c` and basepoints `b` of the polynomial interpolant using `newtondivdiff(xdata, ydata)`\n",
    "  5. evaluate your polynomial interpolant on a large number of $x$ points, e.g. `x = linspace(-2, 2); y = polyeval(c,b,x)`\n",
    "  6. make a plot showing the datapoints `xdata, ydata` with dots and the smooth curve `x,y` with a line.\n",
    "  7. label the axes and provide a legend\n",
    "  "
   ]
  },
  {
   "cell_type": "code",
   "execution_count": null,
   "metadata": {
    "collapsed": true
   },
   "outputs": [],
   "source": []
  },
  {
   "cell_type": "markdown",
   "metadata": {},
   "source": [
    "## Problem 5\n",
    "\n"
   ]
  },
  {
   "cell_type": "markdown",
   "metadata": {},
   "source": [
    "The expected lifetime of an industrial fan decreases with operating temperature, according to the experimental data in this table\n",
    "\n",
    "\\begin{array}{c|c}\n",
    "temp~F & weeks \\\\\n",
    "77 & 57 \\\\\n",
    "104 & 45 \\\\\n",
    "122 & 38 \\\\\n",
    "140 & 32 \n",
    "\\end{array}\n",
    "\n",
    "Estimate the expected fan lifetime at 130 degrees Farenheit using polynomial interpolation. Make a plot showing the datapoints with dots and the interpolant as a smooth curve over the range 50 to 150 weeks."
   ]
  },
  {
   "cell_type": "markdown",
   "metadata": {},
   "source": [
    "## Problem 6\n",
    "\n",
    "**(a)** Given these estimates of world human population over the last fifty years\n",
    "\n",
    "\\begin{array}{c|l}\n",
    "year & population~(billions) \\\\\n",
    "1960 & 3.026 \\\\\n",
    "1970 & 3.691 \\\\\n",
    "1980 & 4.449 \\\\\n",
    "1990 & 5.321 \\\\\n",
    "2000 & 6.128 \\\\\n",
    "2010 & 6.916 \n",
    "\\end{array}\n",
    "\n",
    "estimate the world population in 2025 by extrapolating the polynomial interpolant. \n"
   ]
  },
  {
   "cell_type": "code",
   "execution_count": null,
   "metadata": {
    "collapsed": true
   },
   "outputs": [],
   "source": []
  },
  {
   "cell_type": "markdown",
   "metadata": {},
   "source": [
    "**(b)** Add the current estimated world population of 7.404 billion in 2016 to the data set and give a revised estimate of 2025 population."
   ]
  },
  {
   "cell_type": "code",
   "execution_count": null,
   "metadata": {
    "collapsed": true
   },
   "outputs": [],
   "source": []
  },
  {
   "cell_type": "markdown",
   "metadata": {},
   "source": [
    "**(c)** Make a plot showing the datapoints and the two polynomial interpolants over the range 1950 to 2030. Plot the  interpolant without the 2016 data in blue and with the 2016 data in red. "
   ]
  },
  {
   "cell_type": "code",
   "execution_count": null,
   "metadata": {
    "collapsed": true
   },
   "outputs": [],
   "source": []
  },
  {
   "cell_type": "markdown",
   "metadata": {},
   "source": [
    "**(d)** What conclusions do you draw from the difference between the two curves? "
   ]
  },
  {
   "cell_type": "code",
   "execution_count": null,
   "metadata": {
    "collapsed": true
   },
   "outputs": [],
   "source": []
  }
 ],
 "metadata": {
  "anaconda-cloud": {},
  "kernelspec": {
   "display_name": "Julia 0.6.0",
   "language": "julia",
   "name": "julia-0.6"
  },
  "language_info": {
   "file_extension": ".jl",
   "mimetype": "application/julia",
   "name": "julia",
   "version": "0.6.0"
  }
 },
 "nbformat": 4,
 "nbformat_minor": 1
}

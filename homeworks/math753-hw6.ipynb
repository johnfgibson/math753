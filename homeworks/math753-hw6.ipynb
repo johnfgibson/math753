{
 "cells": [
  {
   "cell_type": "markdown",
   "metadata": {},
   "source": [
    "# Math 753/853 HW7 ODEs"
   ]
  },
  {
   "cell_type": "markdown",
   "metadata": {},
   "source": [
    "## Problem 1\n",
    "\n",
    "Implement Julia functions `rungekutta2` and `rungekutta4` for  numerical solution of 1st-order intial value problems (IVPs) using Runge-Kutta 2nd order (midpoint method) and Runge-Kutta 4th order methods. \n",
    "\n",
    "The generic form of an IVP is\n",
    "\\begin{align*}\n",
    "y' &= f(t,y) \\\\\n",
    "y(t_0) & = y_0\n",
    "\\end{align*}\n",
    "where $t$ is time and $y$ is a vector of independent variables.\n",
    "\n",
    "The `rungekutta2` and `rungekutta4` functions should take inputs $f, y_0, t_0, t_1, \\Delta t$ and return $t$ and $y$, where $t$ is the vector of discrete times $t_n = t_0 + n \\Delta t$ and $y$ is the matrix of the numerical solution for $y$. The first column of `y` should represent the first component of the vector $y$ at each discrete time, the second column the second component, etc. \n",
    "\n",
    "It can be slightly tricky to coordinate the time step $\\Delta t$ with integration interval $t_0, t_1$ and the sizes of the return values $t$ and $y$. So I've provided a sample implementation of `forwardeuler` that adjusts $\\Delta t$ to fit the interval exactly, if necessary. You can copy this bit of code into your `rungekutta2` and `rungekutta4` functions, if you like.\n",
    "\n",
    "\n"
   ]
  },
  {
   "cell_type": "code",
   "execution_count": 1,
   "metadata": {},
   "outputs": [
    {
     "data": {
      "text/plain": [
       "rungekutta4 (generic function with 1 method)"
      ]
     },
     "execution_count": 1,
     "metadata": {},
     "output_type": "execute_result"
    }
   ],
   "source": [
    "function forwardeuler(f, y₀, t₀, t₁, Δt)\n",
    "    \n",
    "    # adjust Δt so it evenly divides time interval\n",
    "    N = convert(Int64, round((t₁ - t₀)/Δt))\n",
    "    Δt = (t₁ - t₀)/N\n",
    "    t = linspace(t₀, t₁, N+1)\n",
    "\n",
    "    # allocate matrix for returning solution y\n",
    "    y = zeros(N+1, length(y₀))\n",
    "    y[1,:] = y₀\n",
    "\n",
    "    # march forward N steps of length Δt using Forward Euler formula\n",
    "    for n = 1:N\n",
    "        y[n+1, :] =  y[n, :] + Δt*f(t[n], y[n,:])\n",
    "    end\n",
    "    \n",
    "    t, y \n",
    "end\n",
    "\n",
    "function rungekutta2(f, y₀, t₀, t₁, Δt)     # a.k.a. midpoint method\n",
    "\n",
    "end\n",
    "\n",
    "\n",
    "function rungekutta4(f, y₀, t₀, t₁, Δt)\n",
    " \n",
    "end"
   ]
  },
  {
   "cell_type": "markdown",
   "metadata": {},
   "source": [
    "## Problem 2\n",
    "\n",
    "Test your `rungekutta2` and `rungekutta4` functions on the simple harmonic oscillator problem\n",
    "\n",
    "\\begin{equation*}\n",
    "\\theta'' + \\omega^2 \\theta = 0\n",
    "\\end{equation*}\n",
    "\n",
    "with $\\omega = 2$ and initial conditions $\\theta(0) = 3, \\theta'(0) = 0$. The true solution of this initial value problem is\n",
    "\n",
    "\\begin{equation*}\n",
    "\\theta(t) = 3 \\cos 2t\n",
    "\\end{equation*}\n",
    "\n",
    "**(a)** Convert the second-order ODE in $\\theta$ to a system of first order ODEs in $y = [y_1, y_2]$, where $y_1 = \\theta$ and $y_2 = \\theta'$. "
   ]
  },
  {
   "cell_type": "code",
   "execution_count": null,
   "metadata": {
    "collapsed": true
   },
   "outputs": [],
   "source": []
  },
  {
   "cell_type": "markdown",
   "metadata": {},
   "source": [
    "**(b)** Write a Julia function `f_oscillator(t,y)` that computes and returns the derivative $y'$ given $(t,y)$ according to your answer for (a)."
   ]
  },
  {
   "cell_type": "code",
   "execution_count": null,
   "metadata": {},
   "outputs": [],
   "source": []
  },
  {
   "cell_type": "markdown",
   "metadata": {},
   "source": [
    "**(c)** Compute numerical solutions to the IVP and compare to the true solution. Make a plot for $0 \\leq t \\leq 5$ showing the RK2 solution in green, the RK4 solution in blue, and the true solution in black. Use $\\Delta t = 0.1$. The RK2 solution should be close but distinguishable from the true solution; the RK4 solution should lie right on top of the true solution."
   ]
  },
  {
   "cell_type": "code",
   "execution_count": null,
   "metadata": {},
   "outputs": [],
   "source": []
  },
  {
   "cell_type": "markdown",
   "metadata": {},
   "source": [
    "**(d)** Redo the above plot including a Forward Euler solution in red, and using different values of $\\Delta t$ for each integration method. Adjust the $\\Delta t$ for each method to be as large as possible while producing a numerical solution that is visually close to the true solution --within a few percent, by eye. \n",
    "\n",
    "What value of $\\Delta t$ does each method require to keep errors within a few percent?\n",
    "\n",
    "If you want to be precise about it, make a logarithmic plot of $|\\hat{y}(t) - y(t)|$ versus $t$ for the three methods, where $\\hat{y}(t)$ is a numeric solution and $y(t)$ is the true solution. Then adjust $\\Delta t$ for each method so that $|\\hat{y}(t) - y(t)| \\approx 3 \\times 10^{-2}$."
   ]
  },
  {
   "cell_type": "code",
   "execution_count": null,
   "metadata": {},
   "outputs": [],
   "source": []
  },
  {
   "cell_type": "markdown",
   "metadata": {},
   "source": [
    "## Problem 3\n",
    "\n",
    "The equations of motion for a small satellite orbiting a much more massive central body are\n",
    "\n",
    "\\begin{align*}\n",
    "x'' &= -\\frac{Gmx}{(x^2+y^2)^{3/2}} \\\\\n",
    "y'' &= -\\frac{Gmy}{(x^2+y^2)^{3/2}}\n",
    "\\end{align*}\n",
    "\n",
    "In these equations, $(x,y)$ is the position of the satellite in the plane of the orbit, $G$ is the universal gravitational constant, and $m$ is the mass of the central body at the origin.\n",
    "\n",
    "**(a)** Convert this system of two second-order ODEs to a system of four first-order ODEs in the four variables $[w_1, w_2, w_3, w_4] = [x, y, x', y']$."
   ]
  },
  {
   "cell_type": "code",
   "execution_count": null,
   "metadata": {
    "collapsed": true
   },
   "outputs": [],
   "source": []
  },
  {
   "cell_type": "markdown",
   "metadata": {},
   "source": [
    "**(b)** Write a Julia function `f(t,w)` that computes $w' = f(t,w)$ according to the system of four first-order ODEs you derived in (a). Since this is a math class and not a physics class, you can set the physical constants $G$ and $m$ to 1. \n"
   ]
  },
  {
   "cell_type": "code",
   "execution_count": null,
   "metadata": {},
   "outputs": [],
   "source": []
  },
  {
   "cell_type": "markdown",
   "metadata": {},
   "source": [
    "**(c)** Compute numerical solutions to the system of ODEs using the initial condition \n",
    "\n",
    "\\begin{align*} \n",
    "x(0) &= 1 \\\\\n",
    "y(0) &= 0 \\\\\n",
    "x'(0) &= 0 \\\\\n",
    "y'(0) &= 0.6\n",
    "\\end{align*}\n",
    "\n",
    "using Forward Euler, 2nd-order Runge-Kutta, and 4th-order Runge-Kutta, using $\\Delta t = 0.04$ over the interval $0 \\leq t \\leq 10$.\n",
    "\n",
    "Make a plot of the $x(t), y(t)$ orbit of the satellite as computed using the three time-stepping algorithms. Plot Forward Euler with a red line, 2nd-order Runge-Kutta in green, and 4th-order Runge-Kutta in blue. Try to get the axes equispaced in $x$ and $y$ by cropping the plot to $-1 \\leq x \\leq 1.5$ and $-1 \\leq y \\leq 1$ using `xlim(-1, 1.5); ylim(-1, 1)` for PyPlot or `plot!(xlim=(-1, 1.5), ylim=(-1,1))` for Plots.\n",
    "\n",
    "For fun plot a yellow ball at $(0,0)$ to represent the sun at $(0,0)$."
   ]
  },
  {
   "cell_type": "code",
   "execution_count": null,
   "metadata": {},
   "outputs": [],
   "source": []
  },
  {
   "cell_type": "markdown",
   "metadata": {},
   "source": [
    "**(d)** Comment on your results. Describe the differences between the three approximate orbits. Which of them makes most sense from a physical perspective, and why?"
   ]
  },
  {
   "cell_type": "code",
   "execution_count": null,
   "metadata": {
    "collapsed": true
   },
   "outputs": [],
   "source": []
  },
  {
   "cell_type": "markdown",
   "metadata": {},
   "source": [
    "**(e)** Redo the above plots using different $\\Delta t$'s for the three algorithms, so that each produces nearly the same orbit. What values of $\\Delta t$ do each of the algorithms require?"
   ]
  },
  {
   "cell_type": "code",
   "execution_count": null,
   "metadata": {
    "collapsed": true
   },
   "outputs": [],
   "source": []
  }
 ],
 "metadata": {
  "anaconda-cloud": {},
  "kernelspec": {
   "display_name": "Julia 0.6.0",
   "language": "julia",
   "name": "julia-0.6"
  },
  "language_info": {
   "file_extension": ".jl",
   "mimetype": "application/julia",
   "name": "julia",
   "version": "0.6.0"
  }
 },
 "nbformat": 4,
 "nbformat_minor": 1
}

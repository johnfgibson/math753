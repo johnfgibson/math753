{
 "cells": [
  {
   "cell_type": "markdown",
   "metadata": {},
   "source": [
    "# Math 753/853 HW7 ODEs"
   ]
  },
  {
   "cell_type": "markdown",
   "metadata": {},
   "source": [
    "## Problem 1\n",
    "\n",
    "Implement Julia functions `rungekutta2` and `rungekutta4` for  numerical solution of 1st-order intial value problems (IVPs) using Runge-Kutta 2nd order (midpoint method) and Runge-Kutta 4th order methods. \n",
    "\n",
    "The generic form of an IVP is\n",
    "\\begin{align*}\n",
    "y' &= f(t,y) \\\\\n",
    "y(t_0) & = y_0\n",
    "\\end{align*}\n",
    "where $t$ is time and $y$ is a vector of independent variables.\n",
    "\n",
    "The functions should take inputs $f, y_0, t_0, t_1, \\Delta t$ and return $t$ and $y$, where $t$ is the vector of discrete times $t_n = t_0 + n \\Delta t$ and $y$ is the matrix of the numerical solution for $y$. The first column of `y` should represent the first component of the vector $y$ at each discrete time, the second column the second component, etc. \n",
    "\n",
    "It can be slightly tricky to coordinate the time step $\\Delta t$ with integration interval $t_0, t_1$ and the sizes of the return values $t$ and $y$. So I've provided a sample implementation of `forwardeuler` that adjusts $\\Delta t$ to fit the interval exactly, if necessary. You can copy this bit of code into your `rungekutta2` and `rungekutta4` functions, if you like.\n",
    "\n",
    "\n"
   ]
  },
  {
   "cell_type": "code",
   "execution_count": 1,
   "metadata": {},
   "outputs": [
    {
     "data": {
      "text/plain": [
       "rungekutta4 (generic function with 1 method)"
      ]
     },
     "execution_count": 1,
     "metadata": {},
     "output_type": "execute_result"
    }
   ],
   "source": [
    "function forwardeuler(f, y₀, t₀, t₁, Δt)\n",
    "    \n",
    "    # fix up Δt so it evenly divides time interval\n",
    "    N = convert(Int64, round((t₁ - t₀)/Δt))\n",
    "    Δt = (t₁ - t₀)/N\n",
    "    t = linspace(t₀, t₁, N+1)\n",
    "\n",
    "    # allocate matrix for returning solution y\n",
    "    y = zeros(N+1, length(y₀))\n",
    "    y[1,:] = y₀\n",
    "\n",
    "    # march forward N steps of length Δt using Forward Euler formula\n",
    "    for n = 1:N\n",
    "        y[n+1, :] =  y[n, :] + Δt*f(t[n], y[n,:])\n",
    "    end\n",
    "    \n",
    "    t, y \n",
    "end\n",
    "\n",
    "function rungekutta2(f, y₀, t₀, t₁, Δt)             # a.k.a. midpoint method\n",
    "    \n",
    "end\n",
    "\n",
    "\n",
    "function rungekutta4(f, y₀, t₀, t₁, Δt)\n",
    "    \n",
    "end"
   ]
  },
  {
   "cell_type": "markdown",
   "metadata": {},
   "source": [
    "## Problem 2\n",
    "\n",
    "Compare the three numerical solution methods on the initial value problem\n",
    "\n",
    "\\begin{align*}\n",
    "    y' &= t y + t^3 \\\\\n",
    "    y(0) &= 1\n",
    "\\end{align*}\n",
    "\n",
    "to the true solution $y(t) = [2 + y(0)] \\, e^{t^2/2} - t^2 - 2$ \n",
    "over the interval $0 \\leq t \\leq 2$.  Your comparison should consist of two plots. The first plot should show $y(t)$ versus $t$ for the true solution \n",
    "and the three numerical solutions. The second plot should show the global errors of the three methods at \n",
    "the last time step versus the time step $\\Delta t$. \n",
    "\n",
    "For guidance on the plots and the structure of the computations to produce them, look at the lecture notebook for 2016-12-02. "
   ]
  },
  {
   "cell_type": "code",
   "execution_count": null,
   "metadata": {
    "collapsed": true
   },
   "outputs": [],
   "source": []
  },
  {
   "cell_type": "markdown",
   "metadata": {},
   "source": [
    "## Problem 3\n",
    "\n",
    "Revise your three numerical IVP solvers to work when $y$ and $f$ are vector-valued. If $d$ is the dimension of $y$ and $f$, the `y` output should now be an $d \\times (N+1)$ matrix, whose columns are the $d$-dimensional vectors $y(t_0), y(t_1), y(t_2), \\ldots$. \n"
   ]
  },
  {
   "cell_type": "code",
   "execution_count": null,
   "metadata": {
    "collapsed": true
   },
   "outputs": [],
   "source": []
  },
  {
   "cell_type": "markdown",
   "metadata": {},
   "source": [
    "## Problem 4\n",
    "\n",
    "The equations of motion for a small satellite orbiting a much more massive central body are\n",
    "\n",
    "\\begin{align*}\n",
    "x'' &= -\\frac{Gmx}{(x^2+y^2)^{3/2}} \\\\\n",
    "y'' &= -\\frac{Gmy}{(x^2+y^2)^{3/2}}\n",
    "\\end{align*}\n",
    "\n",
    "In these equations, $(x,y)$ is the position of the satellite in the plane of the orbit, $G$ is the universal gravitational constant, and $m$ is the mass of the central body at the origin. \n",
    "\n",
    "**(a)** Convert this system of two second-order ODEs to a system of four first-order ODEs in the four variables $x, y, v_x, v_y$, where $v_x = x'$ and $v_y = y'$. \n",
    "\n",
    "**(b)** Write a Julia function `f(t,x)` that maps the vector $x = [x, y, v_x, v_y]$ into $x' = [x', y', v_x', v_y']$\n",
    "according to the system of four first-order ODEs you derived in **(a)**. Since this is a math class and not a physics class, you can set the physical constant $G$ and $m$ to 1. \n",
    "\n",
    "**(c)** Compute numerical solutions to the system of ODEs using the initial condition \n",
    "\n",
    "\\begin{align*} \n",
    "x(0) &= 1 \\\\\n",
    "y(0) &= 0 \\\\\n",
    "v_x(0) &= 0 \\\\\n",
    "v_y(0) &= 0.6\n",
    "\\end{align*}\n",
    "\n",
    "using Forward Euler, 2nd-order Runge-Kutta, and 4th-order Runge-Kutta, using $\\Delta t = 0.04$ over the interval $0 \\leq t \\leq 10$ \n",
    "\n",
    "**(d)** Make a plot of the $x(t), y(t)$ orbit of the satellite as computed using the three time-stepping algorithms. Plot Forward Euler with a blue line, 2nd-order Runge-Kutta in red, and 4th-order Runge-Kutta in green. Make sure the axes are equispaced in $x$ and $y$ by using `axis(\"equal\")`, and crop the plot to $-1 \\leq x \\leq 1.5$ and $-1.5 \\leq y \\leq 1$ using `xlim(-1, 1.5); ylim(-1.5, 1)`.\n",
    "\n",
    "**(e)** Comment on your results. Describe the differences between the three approximate orbits. Which of them makes most sense from a physical perspective, and why?"
   ]
  },
  {
   "cell_type": "code",
   "execution_count": null,
   "metadata": {
    "collapsed": true
   },
   "outputs": [],
   "source": []
  }
 ],
 "metadata": {
  "anaconda-cloud": {},
  "kernelspec": {
   "display_name": "Julia 0.6.0",
   "language": "julia",
   "name": "julia-0.6"
  },
  "language_info": {
   "file_extension": ".jl",
   "mimetype": "application/julia",
   "name": "julia",
   "version": "0.6.0"
  }
 },
 "nbformat": 4,
 "nbformat_minor": 1
}

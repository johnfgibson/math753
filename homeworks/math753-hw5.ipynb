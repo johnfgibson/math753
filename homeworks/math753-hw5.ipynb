{
 "cells": [
  {
   "cell_type": "markdown",
   "metadata": {},
   "source": [
    "# Math 753/853 HW5: Least-squares fits to models"
   ]
  },
  {
   "cell_type": "markdown",
   "metadata": {},
   "source": [
    "### Problem 1. Polynomial least-squares fit\n",
    "\n",
    "**(a)** Fit a cubic polynomial to the following data, and make a plot that shows the data as dots and the cubic fit as a smooth curve."
   ]
  },
  {
   "cell_type": "code",
   "execution_count": 1,
   "metadata": {
    "collapsed": false
   },
   "outputs": [],
   "source": [
    "xdata = [-1.0,  -0.8,  -0.6,  -0.4,  -0.2,  0.0,  0.2,  0.4,  0.6,  0.8,  1.0];\n",
    "ydata = [3.41,  3.19,  2.57,  2.44,  1.90, 1.66, 1.17, 1.46, 1.07, 1.44, 2.28];"
   ]
  },
  {
   "cell_type": "markdown",
   "metadata": {},
   "source": [
    "**(b)** Write out the polynomial in the form $P(x) = c_0 + c_1 x + c_2 x^2 + c_3 x^3$ with the coefficients specified as numeric values with three digits. "
   ]
  },
  {
   "cell_type": "code",
   "execution_count": null,
   "metadata": {
    "collapsed": true
   },
   "outputs": [],
   "source": []
  },
  {
   "cell_type": "markdown",
   "metadata": {},
   "source": [
    "### Problem 2. Exponential fit\n",
    "\n",
    "**(a)** Given the following experimental measurements of alpha-particle emission of a radioactive substance, fit an exponential function $y = c \\exp(a t)$ to the data using least squares. Make a plot that shows the data as dots and the exponential fit as a smooth curve. What are the values of $c$ and $a$?"
   ]
  },
  {
   "cell_type": "code",
   "execution_count": 3,
   "metadata": {
    "collapsed": false
   },
   "outputs": [],
   "source": [
    "tdata = [0,   4,  8, 12, 16, 20, 24, 28, 32, 36, 40, 44, 48]; # time in hours\n",
    "ydata = [69, 64, 54, 41, 44, 34, 26, 29, 18, 22, 18, 19, 11]; # alpha particle emission rate;"
   ]
  },
  {
   "cell_type": "markdown",
   "metadata": {},
   "source": [
    "**(b)** What is the substance's half-life?  (i.e. the time $t$ for which $y(t) = 0.5 \\; y(0)$."
   ]
  },
  {
   "cell_type": "code",
   "execution_count": null,
   "metadata": {
    "collapsed": true
   },
   "outputs": [],
   "source": []
  },
  {
   "cell_type": "markdown",
   "metadata": {},
   "source": [
    "### Problem 3. Power-law fit"
   ]
  },
  {
   "cell_type": "markdown",
   "metadata": {},
   "source": [
    "**(a)** Fit a power-law curve $y = c t^a$ to the following data, and make a plot showing the datapoints as dots and the fit as a smooth curve."
   ]
  },
  {
   "cell_type": "code",
   "execution_count": 11,
   "metadata": {
    "collapsed": true
   },
   "outputs": [],
   "source": [
    "tdata =  [   2,    3,    4,    5,    6,    7,    8,    9,   10]; \n",
    "ydata =  [12.7, 11.2, 8.99, 8.62, 8.12, 8.47, 7.39, 7.24, 6.99];"
   ]
  },
  {
   "cell_type": "markdown",
   "metadata": {},
   "source": [
    "**(b)** Write out the least-squares power-law fit $y = c t^a$ as an explicit function in Julia with $c$ and $a$ specified as numeric values with three digits. E.g. `P(t) = 4.32 t^5.19`."
   ]
  },
  {
   "cell_type": "code",
   "execution_count": null,
   "metadata": {
    "collapsed": true
   },
   "outputs": [],
   "source": []
  },
  {
   "cell_type": "markdown",
   "metadata": {},
   "source": [
    "### Problem 4. c t exp(at) fit"
   ]
  },
  {
   "cell_type": "markdown",
   "metadata": {
    "collapsed": true
   },
   "source": [
    "**(a)** The following data represent measurements of blood concentration of a drug after intravenous injection as a function of time. Fit a function of the form $y = c \\, t \\, e^{at}$ to the data using least squares. Make a plot that shows the data as dots and the exponential fit as a smooth curve. "
   ]
  },
  {
   "cell_type": "code",
   "execution_count": 4,
   "metadata": {
    "collapsed": false
   },
   "outputs": [],
   "source": [
    "tdata = [4,   8,  12,  16,  20,  24]; # time in hours\n",
    "ydata = [21, 31,  25,  21,  15,  16]; # concentration in ng/ml;"
   ]
  },
  {
   "cell_type": "markdown",
   "metadata": {},
   "source": [
    "**(b)** Write out the model $y = c \\, t \\, e^{at}$ as an explicit function in Julia with numeric values specified to three digits. "
   ]
  },
  {
   "cell_type": "code",
   "execution_count": null,
   "metadata": {
    "collapsed": true
   },
   "outputs": [],
   "source": []
  },
  {
   "cell_type": "markdown",
   "metadata": {},
   "source": [
    "**(c)** Based on the model, at what time do you expect the concentration to reach 5 ng/ml?"
   ]
  },
  {
   "cell_type": "code",
   "execution_count": null,
   "metadata": {
    "collapsed": true
   },
   "outputs": [],
   "source": []
  }
 ],
 "metadata": {
  "anaconda-cloud": {},
  "kernelspec": {
   "display_name": "Julia 0.5.0",
   "language": "julia",
   "name": "julia-0.5"
  },
  "language_info": {
   "file_extension": ".jl",
   "mimetype": "application/julia",
   "name": "julia",
   "version": "0.5.0"
  }
 },
 "nbformat": 4,
 "nbformat_minor": 1
}
